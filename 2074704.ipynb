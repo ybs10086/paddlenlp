{
 "cells": [
  {
   "cell_type": "markdown",
   "metadata": {
    "collapsed": false
   },
   "source": [
    "# 基于预训练模型 ERNIE-Gram 实现语义匹配\n",
    "\n",
    "\n",
    "6.7NLP直播打卡课即将开播，欢迎大家关注课程，有任何问题来评论区或**QQ群**（群号:758287592）交流吧~~\n",
    "\n",
    "**[直播链接请戳这里，每晚20:00-21:30👈](http://live.bilibili.com/21689802)**\n",
    "\n",
    "**[课程地址请戳这里👈](https://aistudio.baidu.com/aistudio/course/introduce/24177)**\n",
    "\n",
    "\n",
    "本案例介绍 NLP 最基本的任务类型之一 —— 文本语义匹配，并且基于 PaddleNLP 使用百度开源的预训练模型 ERNIE-Gram 搭建效果优异的语义匹配模型，来判断 2 段文本语义是否相同。\n",
    "\n",
    "## 1. 背景介绍\n",
    "文本语义匹配任务，简单来说就是给定两段文本，让模型来判断两段文本是不是语义相似。\n",
    "\n",
    "在本案例中以权威的语义匹配数据集 [LCQMC](http://icrc.hitsz.edu.cn/Article/show/171.html) 为例，[LCQMC](http://icrc.hitsz.edu.cn/Article/show/171.html) 数据集是基于百度知道相似问题推荐构造的通问句语义匹配数据集。训练集中的每两段文本都会被标记为 1（语义相似） 或者 0（语义不相似）。更多数据集可访问[千言](https://www.luge.ai/)获取哦。\n",
    "\n",
    "例如百度知道场景下，用户搜索一个问题，模型会计算这个问题与候选问题是否语义相似，语义匹配模型会找出与问题语义相似的候选问题返回给用户，加快用户提问-获取答案的效率。例如，当某用户在搜索引擎中搜索 “深度学习的教材有哪些？”，模型就自动找到了一些语义相似的问题展现给用户:\n",
    "![](https://ai-studio-static-online.cdn.bcebos.com/ecc1244685ec4476b869ce8a32d421c0ad530666e98d487da21fa4f61670544f)"
   ]
  },
  {
   "cell_type": "markdown",
   "metadata": {
    "collapsed": false
   },
   "source": [
    "## 2.快速实践\n",
    "\n",
    "介绍如何准备数据，基于 ERNIE-Gram 模型搭建匹配网络，然后快速进行语义匹配模型的训练、评估和预测。\n",
    "\n",
    "### 2.1 数据加载\n",
    "为了训练匹配模型，一般需要准备三个数据集：训练集 train.tsv、验证集dev.tsv、测试集test.tsv。此案例我们使用 PaddleNLP 内置的语义数据集 [LCQMC](http://icrc.hitsz.edu.cn/Article/show/171.html) 来进行训练、评估、预测。\n",
    "\n",
    "训练集: 用来训练模型参数的数据集，模型直接根据训练集来调整自身参数以获得更好的分类效果。\n",
    "\n",
    "验证集: 用于在训练过程中检验模型的状态，收敛情况。验证集通常用于调整超参数，根据几组模型验证集上的表现，决定采用哪组超参数。\n",
    "\n",
    "测试集: 用来计算模型的各项评估指标，验证模型泛化能力。\n",
    "\n",
    "[LCQMC](http://icrc.hitsz.edu.cn/Article/show/171.html) 数据集是公开的语义匹配权威数据集。PaddleNLP 已经内置该数据集，一键即可加载。"
   ]
  },
  {
   "cell_type": "code",
   "execution_count": null,
   "metadata": {
    "collapsed": false
   },
   "outputs": [
    {
     "name": "stdout",
     "output_type": "stream",
     "text": [
      "Requirement already up-to-date: paddlenlp in /opt/conda/envs/python35-paddle120-env/lib/python3.7/site-packages (2.0.2)\n",
      "Requirement already satisfied, skipping upgrade: colorama in /opt/conda/envs/python35-paddle120-env/lib/python3.7/site-packages (from paddlenlp) (0.4.4)\n",
      "Requirement already satisfied, skipping upgrade: seqeval in /opt/conda/envs/python35-paddle120-env/lib/python3.7/site-packages (from paddlenlp) (1.2.2)\n",
      "Requirement already satisfied, skipping upgrade: h5py in /opt/conda/envs/python35-paddle120-env/lib/python3.7/site-packages (from paddlenlp) (2.9.0)\n",
      "Requirement already satisfied, skipping upgrade: colorlog in /opt/conda/envs/python35-paddle120-env/lib/python3.7/site-packages (from paddlenlp) (4.1.0)\n",
      "Requirement already satisfied, skipping upgrade: multiprocess in /opt/conda/envs/python35-paddle120-env/lib/python3.7/site-packages (from paddlenlp) (0.70.11.1)\n",
      "Requirement already satisfied, skipping upgrade: jieba in /opt/conda/envs/python35-paddle120-env/lib/python3.7/site-packages (from paddlenlp) (0.42.1)\n",
      "Requirement already satisfied, skipping upgrade: visualdl in /opt/conda/envs/python35-paddle120-env/lib/python3.7/site-packages (from paddlenlp) (2.1.1)\n",
      "Requirement already satisfied, skipping upgrade: scikit-learn>=0.21.3 in /opt/conda/envs/python35-paddle120-env/lib/python3.7/site-packages (from seqeval->paddlenlp) (0.24.2)\n",
      "Requirement already satisfied, skipping upgrade: numpy>=1.14.0 in /opt/conda/envs/python35-paddle120-env/lib/python3.7/site-packages (from seqeval->paddlenlp) (1.20.3)\n",
      "Requirement already satisfied, skipping upgrade: six in /opt/conda/envs/python35-paddle120-env/lib/python3.7/site-packages (from h5py->paddlenlp) (1.15.0)\n",
      "Requirement already satisfied, skipping upgrade: dill>=0.3.3 in /opt/conda/envs/python35-paddle120-env/lib/python3.7/site-packages (from multiprocess->paddlenlp) (0.3.3)\n",
      "Requirement already satisfied, skipping upgrade: Flask-Babel>=1.0.0 in /opt/conda/envs/python35-paddle120-env/lib/python3.7/site-packages (from visualdl->paddlenlp) (1.0.0)\n",
      "Requirement already satisfied, skipping upgrade: shellcheck-py in /opt/conda/envs/python35-paddle120-env/lib/python3.7/site-packages (from visualdl->paddlenlp) (0.7.1.1)\n",
      "Requirement already satisfied, skipping upgrade: flask>=1.1.1 in /opt/conda/envs/python35-paddle120-env/lib/python3.7/site-packages (from visualdl->paddlenlp) (1.1.1)\n",
      "Requirement already satisfied, skipping upgrade: Pillow>=7.0.0 in /opt/conda/envs/python35-paddle120-env/lib/python3.7/site-packages (from visualdl->paddlenlp) (7.1.2)\n",
      "Requirement already satisfied, skipping upgrade: pre-commit in /opt/conda/envs/python35-paddle120-env/lib/python3.7/site-packages (from visualdl->paddlenlp) (1.21.0)\n",
      "Requirement already satisfied, skipping upgrade: protobuf>=3.11.0 in /opt/conda/envs/python35-paddle120-env/lib/python3.7/site-packages (from visualdl->paddlenlp) (3.14.0)\n",
      "Requirement already satisfied, skipping upgrade: flake8>=3.7.9 in /opt/conda/envs/python35-paddle120-env/lib/python3.7/site-packages (from visualdl->paddlenlp) (3.8.2)\n",
      "Requirement already satisfied, skipping upgrade: bce-python-sdk in /opt/conda/envs/python35-paddle120-env/lib/python3.7/site-packages (from visualdl->paddlenlp) (0.8.53)\n",
      "Requirement already satisfied, skipping upgrade: requests in /opt/conda/envs/python35-paddle120-env/lib/python3.7/site-packages (from visualdl->paddlenlp) (2.22.0)\n",
      "Requirement already satisfied, skipping upgrade: threadpoolctl>=2.0.0 in /opt/conda/envs/python35-paddle120-env/lib/python3.7/site-packages (from scikit-learn>=0.21.3->seqeval->paddlenlp) (2.1.0)\n",
      "Requirement already satisfied, skipping upgrade: joblib>=0.11 in /opt/conda/envs/python35-paddle120-env/lib/python3.7/site-packages (from scikit-learn>=0.21.3->seqeval->paddlenlp) (0.14.1)\n",
      "Requirement already satisfied, skipping upgrade: scipy>=0.19.1 in /opt/conda/envs/python35-paddle120-env/lib/python3.7/site-packages (from scikit-learn>=0.21.3->seqeval->paddlenlp) (1.6.3)\n",
      "Requirement already satisfied, skipping upgrade: pytz in /opt/conda/envs/python35-paddle120-env/lib/python3.7/site-packages (from Flask-Babel>=1.0.0->visualdl->paddlenlp) (2019.3)\n",
      "Requirement already satisfied, skipping upgrade: Babel>=2.3 in /opt/conda/envs/python35-paddle120-env/lib/python3.7/site-packages (from Flask-Babel>=1.0.0->visualdl->paddlenlp) (2.8.0)\n",
      "Requirement already satisfied, skipping upgrade: Jinja2>=2.5 in /opt/conda/envs/python35-paddle120-env/lib/python3.7/site-packages (from Flask-Babel>=1.0.0->visualdl->paddlenlp) (2.10.1)\n",
      "Requirement already satisfied, skipping upgrade: itsdangerous>=0.24 in /opt/conda/envs/python35-paddle120-env/lib/python3.7/site-packages (from flask>=1.1.1->visualdl->paddlenlp) (1.1.0)\n",
      "Requirement already satisfied, skipping upgrade: click>=5.1 in /opt/conda/envs/python35-paddle120-env/lib/python3.7/site-packages (from flask>=1.1.1->visualdl->paddlenlp) (7.0)\n",
      "Requirement already satisfied, skipping upgrade: Werkzeug>=0.15 in /opt/conda/envs/python35-paddle120-env/lib/python3.7/site-packages (from flask>=1.1.1->visualdl->paddlenlp) (0.16.0)\n",
      "Requirement already satisfied, skipping upgrade: nodeenv>=0.11.1 in /opt/conda/envs/python35-paddle120-env/lib/python3.7/site-packages (from pre-commit->visualdl->paddlenlp) (1.3.4)\n",
      "Requirement already satisfied, skipping upgrade: identify>=1.0.0 in /opt/conda/envs/python35-paddle120-env/lib/python3.7/site-packages (from pre-commit->visualdl->paddlenlp) (1.4.10)\n",
      "Requirement already satisfied, skipping upgrade: cfgv>=2.0.0 in /opt/conda/envs/python35-paddle120-env/lib/python3.7/site-packages (from pre-commit->visualdl->paddlenlp) (2.0.1)\n",
      "Requirement already satisfied, skipping upgrade: aspy.yaml in /opt/conda/envs/python35-paddle120-env/lib/python3.7/site-packages (from pre-commit->visualdl->paddlenlp) (1.3.0)\n",
      "Requirement already satisfied, skipping upgrade: virtualenv>=15.2 in /opt/conda/envs/python35-paddle120-env/lib/python3.7/site-packages (from pre-commit->visualdl->paddlenlp) (16.7.9)\n",
      "Requirement already satisfied, skipping upgrade: toml in /opt/conda/envs/python35-paddle120-env/lib/python3.7/site-packages (from pre-commit->visualdl->paddlenlp) (0.10.0)\n",
      "Requirement already satisfied, skipping upgrade: importlib-metadata; python_version < \"3.8\" in /opt/conda/envs/python35-paddle120-env/lib/python3.7/site-packages (from pre-commit->visualdl->paddlenlp) (0.23)\n",
      "Requirement already satisfied, skipping upgrade: pyyaml in /opt/conda/envs/python35-paddle120-env/lib/python3.7/site-packages (from pre-commit->visualdl->paddlenlp) (5.1.2)\n",
      "Requirement already satisfied, skipping upgrade: pyflakes<2.3.0,>=2.2.0 in /opt/conda/envs/python35-paddle120-env/lib/python3.7/site-packages (from flake8>=3.7.9->visualdl->paddlenlp) (2.2.0)\n",
      "Requirement already satisfied, skipping upgrade: mccabe<0.7.0,>=0.6.0 in /opt/conda/envs/python35-paddle120-env/lib/python3.7/site-packages (from flake8>=3.7.9->visualdl->paddlenlp) (0.6.1)\n",
      "Requirement already satisfied, skipping upgrade: pycodestyle<2.7.0,>=2.6.0a1 in /opt/conda/envs/python35-paddle120-env/lib/python3.7/site-packages (from flake8>=3.7.9->visualdl->paddlenlp) (2.6.0)\n",
      "Requirement already satisfied, skipping upgrade: future>=0.6.0 in /opt/conda/envs/python35-paddle120-env/lib/python3.7/site-packages (from bce-python-sdk->visualdl->paddlenlp) (0.18.0)\n",
      "Requirement already satisfied, skipping upgrade: pycryptodome>=3.8.0 in /opt/conda/envs/python35-paddle120-env/lib/python3.7/site-packages (from bce-python-sdk->visualdl->paddlenlp) (3.9.9)\n",
      "Requirement already satisfied, skipping upgrade: certifi>=2017.4.17 in /opt/conda/envs/python35-paddle120-env/lib/python3.7/site-packages (from requests->visualdl->paddlenlp) (2019.9.11)\n",
      "Requirement already satisfied, skipping upgrade: urllib3!=1.25.0,!=1.25.1,<1.26,>=1.21.1 in /opt/conda/envs/python35-paddle120-env/lib/python3.7/site-packages (from requests->visualdl->paddlenlp) (1.25.6)\n",
      "Requirement already satisfied, skipping upgrade: idna<2.9,>=2.5 in /opt/conda/envs/python35-paddle120-env/lib/python3.7/site-packages (from requests->visualdl->paddlenlp) (2.8)\n",
      "Requirement already satisfied, skipping upgrade: chardet<3.1.0,>=3.0.2 in /opt/conda/envs/python35-paddle120-env/lib/python3.7/site-packages (from requests->visualdl->paddlenlp) (3.0.4)\n",
      "Requirement already satisfied, skipping upgrade: MarkupSafe>=0.23 in /opt/conda/envs/python35-paddle120-env/lib/python3.7/site-packages (from Jinja2>=2.5->Flask-Babel>=1.0.0->visualdl->paddlenlp) (1.1.1)\n",
      "Requirement already satisfied, skipping upgrade: zipp>=0.5 in /opt/conda/envs/python35-paddle120-env/lib/python3.7/site-packages (from importlib-metadata; python_version < \"3.8\"->pre-commit->visualdl->paddlenlp) (0.6.0)\n",
      "Requirement already satisfied, skipping upgrade: more-itertools in /opt/conda/envs/python35-paddle120-env/lib/python3.7/site-packages (from zipp>=0.5->importlib-metadata; python_version < \"3.8\"->pre-commit->visualdl->paddlenlp) (7.2.0)\n"
     ]
    }
   ],
   "source": [
    "# 正式开始实验之前首先通过如下命令安装最新版本的 paddlenlp\n",
    "!pip install --upgrade paddlenlp -i https://pypi.org/simple"
   ]
  },
  {
   "cell_type": "code",
   "execution_count": null,
   "metadata": {
    "collapsed": false
   },
   "outputs": [],
   "source": [
    "!unzip -oq /home/aistudio/bq_corpus.zip"
   ]
  },
  {
   "cell_type": "code",
   "execution_count": null,
   "metadata": {
    "collapsed": false
   },
   "outputs": [],
   "source": [
    "import time\n",
    "import os\n",
    "import numpy as np\n",
    "import pandas as pd\n",
    "import paddle\n",
    "import paddle.nn.functional as F\n",
    "from paddlenlp.datasets import load_dataset\n",
    "import paddlenlp\n",
    "\n",
    "# 一键加载 Lcqmc 的训练集、验证集\n",
    "train_ds, dev_ds = load_dataset(\"lcqmc\", splits=[\"train\", \"dev\"])\n",
    "train_ds1, dev_ds1 = load_dataset(\"lcqmc\", data_files=(\n",
    "    \"bq_corpus/train.tsv\", \"bq_corpus/dev.tsv\"))\n",
    "# train_ds2, dev_ds2 = load_dataset(\"lcqmc\", data_files=(\n",
    "#     \"paws-x-zh/train.tsv\", \"paws-x-zh/dev.tsv\"))"
   ]
  },
  {
   "cell_type": "code",
   "execution_count": null,
   "metadata": {
    "collapsed": false
   },
   "outputs": [],
   "source": [
    "train_ds2=pd.read_csv('paws-x-zh/train.tsv',sep='\\t')\r\n"
   ]
  },
  {
   "cell_type": "code",
   "execution_count": null,
   "metadata": {
    "collapsed": false
   },
   "outputs": [
    {
     "name": "stdout",
     "output_type": "stream",
     "text": [
      "1560年10月，他在巴黎秘密会见了英国大使Nicolas Throckmorton，要求他通过苏格兰返回英国。\n",
      "1560年10月，他在巴黎秘密会见了英国大使尼古拉斯·斯罗克莫顿，并要求他通过英格兰返回苏格兰的护照。\n",
      "0\n"
     ]
    }
   ],
   "source": [
    "# 输出训练集的前 3 条样本\n",
    "for idx, example in enumerate(train_ds2):\n",
    "    if idx <=30:\n",
    "        print(example)"
   ]
  },
  {
   "cell_type": "markdown",
   "metadata": {
    "collapsed": false
   },
   "source": []
  },
  {
   "cell_type": "markdown",
   "metadata": {
    "collapsed": false
   },
   "source": [
    "### 2.2 数据预处理\n",
    "\n",
    "通过 PaddleNLP 加载进来的 [LCQMC](http://icrc.hitsz.edu.cn/Article/show/171.html) 数据集是原始的明文数据集，这部分我们来实现组 batch、tokenize 等预处理逻辑，将原始明文数据转换成网络训练的输入数据。"
   ]
  },
  {
   "cell_type": "markdown",
   "metadata": {
    "collapsed": false
   },
   "source": [
    "#### 定义样本转换函数"
   ]
  },
  {
   "cell_type": "code",
   "execution_count": null,
   "metadata": {
    "collapsed": false
   },
   "outputs": [
    {
     "name": "stderr",
     "output_type": "stream",
     "text": [
      "[2021-06-13 19:28:14,247] [    INFO] - Found /home/aistudio/.paddlenlp/models/ernie-gram-zh/vocab.txt\n"
     ]
    }
   ],
   "source": [
    "# 因为是基于预训练模型 ERNIE-Gram 来进行，所以需要首先加载 ERNIE-Gram 的 tokenizer，\n",
    "# 后续样本转换函数基于 tokenizer 对文本进行切分\n",
    "\n",
    "tokenizer = paddlenlp.transformers.ErnieGramTokenizer.from_pretrained('ernie-gram-zh')"
   ]
  },
  {
   "cell_type": "code",
   "execution_count": null,
   "metadata": {
    "collapsed": false
   },
   "outputs": [],
   "source": [
    "# 将 1 条明文数据的 query、title 拼接起来，根据预训练模型的 tokenizer 将明文转换为 ID 数据\n",
    "# 返回 input_ids 和 token_type_ids\n",
    "\n",
    "def convert_example(example, tokenizer, max_seq_length=512, is_test=False):\n",
    "\n",
    "    query, title = example[\"query\"], example[\"title\"]\n",
    "\n",
    "    encoded_inputs = tokenizer(\n",
    "        text=query, text_pair=title, max_seq_len=max_seq_length)\n",
    "\n",
    "    input_ids = encoded_inputs[\"input_ids\"]\n",
    "    token_type_ids = encoded_inputs[\"token_type_ids\"]\n",
    "\n",
    "    if not is_test:\n",
    "        label = np.array([example[\"label\"]], dtype=\"int64\")\n",
    "        return input_ids, token_type_ids, label\n",
    "    # 在预测或者评估阶段，不返回 label 字段\n",
    "    else:\n",
    "        return input_ids, token_type_ids"
   ]
  },
  {
   "cell_type": "code",
   "execution_count": 8,
   "metadata": {
    "collapsed": false
   },
   "outputs": [],
   "source": [
    "### 对训练集的第 1 条数据进行转换\n",
    "input_ids, token_type_ids, label = convert_example(train_ds[0], tokenizer)"
   ]
  },
  {
   "cell_type": "code",
   "execution_count": 9,
   "metadata": {
    "collapsed": false
   },
   "outputs": [
    {
     "name": "stdout",
     "output_type": "stream",
     "text": [
      "[1, 692, 811, 445, 2001, 497, 5, 654, 21, 692, 811, 614, 356, 314, 5, 291, 21, 2, 329, 445, 2001, 497, 5, 654, 21, 692, 811, 614, 356, 314, 5, 291, 21, 2]\n"
     ]
    }
   ],
   "source": [
    "print(input_ids)"
   ]
  },
  {
   "cell_type": "code",
   "execution_count": 10,
   "metadata": {
    "collapsed": false
   },
   "outputs": [
    {
     "name": "stdout",
     "output_type": "stream",
     "text": [
      "[0, 0, 0, 0, 0, 0, 0, 0, 0, 0, 0, 0, 0, 0, 0, 0, 0, 0, 1, 1, 1, 1, 1, 1, 1, 1, 1, 1, 1, 1, 1, 1, 1, 1]\n"
     ]
    }
   ],
   "source": [
    "print(token_type_ids)"
   ]
  },
  {
   "cell_type": "code",
   "execution_count": 11,
   "metadata": {
    "collapsed": false
   },
   "outputs": [
    {
     "name": "stdout",
     "output_type": "stream",
     "text": [
      "[1]\n"
     ]
    }
   ],
   "source": [
    "print(label)"
   ]
  },
  {
   "cell_type": "code",
   "execution_count": 12,
   "metadata": {
    "collapsed": false
   },
   "outputs": [],
   "source": [
    "# 为了后续方便使用，我们使用python偏函数（partial）给 convert_example 赋予一些默认参数\n",
    "from functools import partial\n",
    "\n",
    "# 训练集和验证集的样本转换函数\n",
    "trans_func = partial(\n",
    "    convert_example,\n",
    "    tokenizer=tokenizer,\n",
    "    max_seq_length=512)"
   ]
  },
  {
   "cell_type": "markdown",
   "metadata": {
    "collapsed": false
   },
   "source": [
    "#### 组装 Batch 数据 & Padding\n",
    "\n",
    "上一小节，我们完成了对单条样本的转换，本节我们需要将样本组合成 Batch 数据，对于不等长的数据还需要进行 Padding 操作，便于 GPU 训练。\n",
    "\n",
    "PaddleNLP 提供了许多关于 NLP 任务中构建有效的数据 pipeline 的常用 API\n",
    "\n",
    "| API                             | 简介                                       |\n",
    "| ------------------------------- | :----------------------------------------- |\n",
    "| `paddlenlp.data.Stack`          | 堆叠N个具有相同shape的输入数据来构建一个batch |\n",
    "| `paddlenlp.data.Pad`            | 将长度不同的多个句子padding到统一长度，取N个输入数据中的最大长度 |\n",
    "| `paddlenlp.data.Tuple`          | 将多个batchify函数包装在一起 |\n",
    "\n",
    "更多数据处理操作详见： [https://paddlenlp.readthedocs.io/zh/latest/data_prepare/data_preprocess.html](https://paddlenlp.readthedocs.io/zh/latest/data_prepare/data_preprocess.html)"
   ]
  },
  {
   "cell_type": "code",
   "execution_count": 13,
   "metadata": {
    "collapsed": false
   },
   "outputs": [
    {
     "name": "stdout",
     "output_type": "stream",
     "text": [
      "Stacked Data: \n",
      " [[1 2 3 4]\n",
      " [3 4 5 6]\n",
      " [5 6 7 8]]\n",
      "\n",
      "Padded Data: \n",
      " [[1 2 3 4]\n",
      " [5 6 7 0]\n",
      " [8 9 0 0]]\n",
      "\n",
      "ids: \n",
      " [[1 2 3 4]\n",
      " [5 6 7 0]\n",
      " [8 9 0 0]]\n",
      "\n",
      "labels: \n",
      " [[1]\n",
      " [0]\n",
      " [1]]\n",
      "\n"
     ]
    }
   ],
   "source": [
    "from paddlenlp.data import Stack, Pad, Tuple\n",
    "a = [1, 2, 3, 4]\n",
    "b = [3, 4, 5, 6]\n",
    "c = [5, 6, 7, 8]\n",
    "result = Stack()([a, b, c])\n",
    "print(\"Stacked Data: \\n\", result)\n",
    "print()\n",
    "\n",
    "a = [1, 2, 3, 4]\n",
    "b = [5, 6, 7]\n",
    "c = [8, 9]\n",
    "result = Pad(pad_val=0)([a, b, c])\n",
    "print(\"Padded Data: \\n\", result)\n",
    "print()\n",
    "\n",
    "data = [\n",
    "        [[1, 2, 3, 4], [1]],\n",
    "        [[5, 6, 7], [0]],\n",
    "        [[8, 9], [1]],\n",
    "       ]\n",
    "batchify_fn = Tuple(Pad(pad_val=0), Stack())\n",
    "ids, labels = batchify_fn(data)\n",
    "print(\"ids: \\n\", ids)\n",
    "print()\n",
    "print(\"labels: \\n\", labels)\n",
    "print()"
   ]
  },
  {
   "cell_type": "code",
   "execution_count": 14,
   "metadata": {
    "collapsed": false
   },
   "outputs": [],
   "source": [
    "# 我们的训练数据会返回 input_ids, token_type_ids, labels 3 个字段\n",
    "# 因此针对这 3 个字段需要分别定义 3 个组 batch 操作\n",
    "batchify_fn = lambda samples, fn=Tuple(\n",
    "    Pad(axis=0, pad_val=tokenizer.pad_token_id),  # input_ids\n",
    "    Pad(axis=0, pad_val=tokenizer.pad_token_type_id),  # token_type_ids\n",
    "    Stack(dtype=\"int64\")  # label\n",
    "): [data for data in fn(samples)]"
   ]
  },
  {
   "cell_type": "markdown",
   "metadata": {
    "collapsed": false
   },
   "source": [
    "#### 定义 Dataloader\n",
    "下面我们基于组 batchify_fn 函数和样本转换函数 trans_func 来构造训练集的 DataLoader, 支持多卡训练\n"
   ]
  },
  {
   "cell_type": "code",
   "execution_count": 15,
   "metadata": {
    "collapsed": false
   },
   "outputs": [],
   "source": [
    "\n",
    "# 定义分布式 Sampler: 自动对训练数据进行切分，支持多卡并行训练\n",
    "batch_sampler = paddle.io.DistributedBatchSampler(train_ds, batch_size=32, shuffle=True)\n",
    "batch_sampler1 = paddle.io.DistributedBatchSampler(train_ds1, batch_size=32, shuffle=True)\n",
    "# 基于 train_ds 定义 train_data_loader\n",
    "# 因为我们使用了分布式的 DistributedBatchSampler, train_data_loader 会自动对训练数据进行切分\n",
    "train_data_loader = paddle.io.DataLoader(\n",
    "        dataset=train_ds.map(trans_func),\n",
    "        batch_sampler=batch_sampler,\n",
    "        collate_fn=batchify_fn,\n",
    "        return_list=True)\n",
    "train_data_loader1 = paddle.io.DataLoader(\n",
    "        dataset=train_ds1.map(trans_func),\n",
    "        batch_sampler=batch_sampler1,\n",
    "        collate_fn=batchify_fn,\n",
    "        return_list=True)\n",
    "# 针对验证集数据加载，我们使用单卡进行评估，所以采用 paddle.io.BatchSampler 即可\n",
    "# 定义 dev_data_loader\n",
    "batch_sampler = paddle.io.BatchSampler(dev_ds, batch_size=32, shuffle=False)\n",
    "dev_data_loader = paddle.io.DataLoader(\n",
    "        dataset=dev_ds.map(trans_func),\n",
    "        batch_sampler=batch_sampler,\n",
    "        collate_fn=batchify_fn,\n",
    "        return_list=True)"
   ]
  },
  {
   "cell_type": "markdown",
   "metadata": {
    "collapsed": false
   },
   "source": [
    "### 2.3 模型搭建\n",
    "\n",
    "自从 2018 年 10 月以来，NLP 个领域的任务都通过 Pretrain + Finetune 的模式相比传统 DNN 方法在效果上取得了显著的提升，本节我们以百度开源的预训练模型 ERNIE-Gram 为基础模型，在此之上构建 Point-wise 语义匹配网络。\n",
    "\n",
    "首先我们来定义网络结构:"
   ]
  },
  {
   "cell_type": "code",
   "execution_count": 16,
   "metadata": {
    "collapsed": false
   },
   "outputs": [
    {
     "name": "stderr",
     "output_type": "stream",
     "text": [
      "[2021-06-13 19:28:14,329] [    INFO] - Already cached /home/aistudio/.paddlenlp/models/ernie-gram-zh/ernie_gram_zh.pdparams\n"
     ]
    }
   ],
   "source": [
    "import paddle.nn as nn\n",
    "\n",
    "# 我们基于 ERNIE-Gram 模型结构搭建 Point-wise 语义匹配网络\n",
    "# 所以此处先定义 ERNIE-Gram 的 pretrained_model\n",
    "pretrained_model = paddlenlp.transformers.ErnieGramModel.from_pretrained('ernie-gram-zh')\n",
    "#pretrained_model = paddlenlp.transformers.ErnieModel.from_pretrained('ernie-1.0')\n",
    "\n",
    "class PointwiseMatching(nn.Layer):\n",
    "   \n",
    "    # 此处的 pretained_model 在本例中会被 ERNIE-Gram 预训练模型初始化\n",
    "    def __init__(self, pretrained_model, dropout=None):\n",
    "        super().__init__()\n",
    "        self.ptm = pretrained_model\n",
    "        self.dropout = nn.Dropout(dropout if dropout is not None else 0.1)\n",
    "\n",
    "        # 语义匹配任务: 相似、不相似 2 分类任务\n",
    "        self.classifier = nn.Linear(self.ptm.config[\"hidden_size\"], 2)\n",
    "\n",
    "    def forward(self,\n",
    "                input_ids,\n",
    "                token_type_ids=None,\n",
    "                position_ids=None,\n",
    "                attention_mask=None):\n",
    "\n",
    "        # 此处的 Input_ids 由两条文本的 token ids 拼接而成\n",
    "        # token_type_ids 表示两段文本的类型编码\n",
    "        # 返回的 cls_embedding 就表示这两段文本经过模型的计算之后而得到的语义表示向量\n",
    "        _, cls_embedding = self.ptm(input_ids, token_type_ids, position_ids,\n",
    "                                    attention_mask)\n",
    "\n",
    "        cls_embedding = self.dropout(cls_embedding)\n",
    "\n",
    "        # 基于文本对的语义表示向量进行 2 分类任务\n",
    "        logits = self.classifier(cls_embedding)\n",
    "        probs = F.softmax(logits)\n",
    "\n",
    "        return probs\n",
    "\n",
    "# 定义 Point-wise 语义匹配网络\n",
    "model = PointwiseMatching(pretrained_model)"
   ]
  },
  {
   "cell_type": "markdown",
   "metadata": {
    "collapsed": false
   },
   "source": [
    "### 2.4 模型训练 & 评估"
   ]
  },
  {
   "cell_type": "code",
   "execution_count": 17,
   "metadata": {
    "collapsed": false
   },
   "outputs": [],
   "source": [
    "from paddlenlp.transformers import LinearDecayWithWarmup\n",
    "\n",
    "epochs = 3\n",
    "num_training_steps = len(train_data_loader) * epochs\n",
    "\n",
    "# 定义 learning_rate_scheduler，负责在训练过程中对 lr 进行调度\n",
    "lr_scheduler = LinearDecayWithWarmup(5E-5, num_training_steps, 0.0)\n",
    "\n",
    "# Generate parameter names needed to perform weight decay.\n",
    "# All bias and LayerNorm parameters are excluded.\n",
    "decay_params = [\n",
    "    p.name for n, p in model.named_parameters()\n",
    "    if not any(nd in n for nd in [\"bias\", \"norm\"])\n",
    "]\n",
    "\n",
    "# 定义 Optimizer\n",
    "optimizer = paddle.optimizer.AdamW(\n",
    "    learning_rate=lr_scheduler,\n",
    "    parameters=model.parameters(),\n",
    "    weight_decay=0.0,\n",
    "    apply_decay_param_fun=lambda x: x in decay_params)\n",
    "\n",
    "# 采用交叉熵 损失函数\n",
    "criterion = paddle.nn.loss.CrossEntropyLoss()\n",
    "\n",
    "# 评估的时候采用准确率指标\n",
    "metric = paddle.metric.Accuracy()"
   ]
  },
  {
   "cell_type": "code",
   "execution_count": 18,
   "metadata": {
    "collapsed": false
   },
   "outputs": [],
   "source": [
    "# 因为训练过程中同时要在验证集进行模型评估，因此我们先定义评估函数\n",
    "\n",
    "@paddle.no_grad()\n",
    "def evaluate(model, criterion, metric, data_loader, phase=\"dev\"):\n",
    "    model.eval()\n",
    "    metric.reset()\n",
    "    losses = []\n",
    "    for batch in data_loader:\n",
    "        input_ids, token_type_ids, labels = batch\n",
    "        probs = model(input_ids=input_ids, token_type_ids=token_type_ids)\n",
    "        loss = criterion(probs, labels)\n",
    "        losses.append(loss.numpy())\n",
    "        correct = metric.compute(probs, labels)\n",
    "        metric.update(correct)\n",
    "        accu = metric.accumulate()\n",
    "    print(\"eval {} loss: {:.5}, accu: {:.5}\".format(phase,\n",
    "                                                    np.mean(losses), accu))\n",
    "    model.train()\n",
    "    metric.reset()"
   ]
  },
  {
   "cell_type": "code",
   "execution_count": 19,
   "metadata": {
    "collapsed": false
   },
   "outputs": [
    {
     "name": "stdout",
     "output_type": "stream",
     "text": [
      "global step 10, epoch: 1, batch: 10, loss: 0.56100, accu: 0.67812, speed: 7.94 step/s\n",
      "global step 20, epoch: 1, batch: 20, loss: 0.43111, accu: 0.72813, speed: 10.03 step/s\n",
      "global step 30, epoch: 1, batch: 30, loss: 0.54571, accu: 0.76250, speed: 10.54 step/s\n",
      "global step 40, epoch: 1, batch: 40, loss: 0.49144, accu: 0.77500, speed: 9.74 step/s\n",
      "global step 50, epoch: 1, batch: 50, loss: 0.45953, accu: 0.78812, speed: 9.64 step/s\n",
      "global step 60, epoch: 1, batch: 60, loss: 0.62377, accu: 0.79427, speed: 9.87 step/s\n",
      "global step 70, epoch: 1, batch: 70, loss: 0.34201, accu: 0.79866, speed: 8.82 step/s\n",
      "global step 80, epoch: 1, batch: 80, loss: 0.42777, accu: 0.79609, speed: 10.44 step/s\n",
      "global step 90, epoch: 1, batch: 90, loss: 0.37625, accu: 0.79896, speed: 10.42 step/s\n",
      "global step 100, epoch: 1, batch: 100, loss: 0.66052, accu: 0.79906, speed: 9.34 step/s\n",
      "eval dev loss: 0.49708, accu: 0.80879\n",
      "global step 110, epoch: 1, batch: 110, loss: 0.43772, accu: 0.82500, speed: 0.90 step/s\n",
      "global step 120, epoch: 1, batch: 120, loss: 0.59484, accu: 0.81406, speed: 10.00 step/s\n",
      "global step 130, epoch: 1, batch: 130, loss: 0.43073, accu: 0.82083, speed: 9.00 step/s\n",
      "global step 140, epoch: 1, batch: 140, loss: 0.55677, accu: 0.83047, speed: 10.67 step/s\n",
      "global step 150, epoch: 1, batch: 150, loss: 0.42835, accu: 0.83688, speed: 10.35 step/s\n",
      "global step 160, epoch: 1, batch: 160, loss: 0.48921, accu: 0.82240, speed: 9.60 step/s\n",
      "global step 170, epoch: 1, batch: 170, loss: 0.46269, accu: 0.82455, speed: 9.56 step/s\n",
      "global step 180, epoch: 1, batch: 180, loss: 0.51015, accu: 0.82656, speed: 10.30 step/s\n",
      "global step 190, epoch: 1, batch: 190, loss: 0.43352, accu: 0.82917, speed: 9.91 step/s\n",
      "global step 200, epoch: 1, batch: 200, loss: 0.48707, accu: 0.82656, speed: 9.33 step/s\n",
      "eval dev loss: 0.5062, accu: 0.80095\n",
      "global step 210, epoch: 1, batch: 210, loss: 0.36203, accu: 0.85000, speed: 0.91 step/s\n",
      "global step 220, epoch: 1, batch: 220, loss: 0.43851, accu: 0.85313, speed: 9.61 step/s\n",
      "global step 230, epoch: 1, batch: 230, loss: 0.49407, accu: 0.84271, speed: 10.44 step/s\n",
      "global step 240, epoch: 1, batch: 240, loss: 0.43277, accu: 0.83594, speed: 9.58 step/s\n",
      "global step 250, epoch: 1, batch: 250, loss: 0.57172, accu: 0.83500, speed: 8.80 step/s\n",
      "global step 260, epoch: 1, batch: 260, loss: 0.46790, accu: 0.83594, speed: 9.05 step/s\n",
      "global step 270, epoch: 1, batch: 270, loss: 0.42024, accu: 0.83482, speed: 8.94 step/s\n",
      "global step 280, epoch: 1, batch: 280, loss: 0.50059, accu: 0.82695, speed: 9.17 step/s\n",
      "global step 290, epoch: 1, batch: 290, loss: 0.43892, accu: 0.83160, speed: 9.43 step/s\n",
      "global step 300, epoch: 1, batch: 300, loss: 0.43966, accu: 0.83313, speed: 9.90 step/s\n",
      "eval dev loss: 0.55987, accu: 0.74813\n",
      "global step 310, epoch: 1, batch: 310, loss: 0.48923, accu: 0.87813, speed: 0.91 step/s\n",
      "global step 320, epoch: 1, batch: 320, loss: 0.48833, accu: 0.86406, speed: 9.30 step/s\n",
      "global step 330, epoch: 1, batch: 330, loss: 0.46098, accu: 0.86667, speed: 9.28 step/s\n",
      "global step 340, epoch: 1, batch: 340, loss: 0.41910, accu: 0.86406, speed: 9.99 step/s\n",
      "global step 350, epoch: 1, batch: 350, loss: 0.47205, accu: 0.85250, speed: 9.83 step/s\n",
      "global step 360, epoch: 1, batch: 360, loss: 0.40745, accu: 0.85313, speed: 9.32 step/s\n",
      "global step 370, epoch: 1, batch: 370, loss: 0.43483, accu: 0.85357, speed: 9.78 step/s\n",
      "global step 380, epoch: 1, batch: 380, loss: 0.42449, accu: 0.84922, speed: 9.23 step/s\n",
      "global step 390, epoch: 1, batch: 390, loss: 0.46153, accu: 0.84965, speed: 9.97 step/s\n",
      "global step 400, epoch: 1, batch: 400, loss: 0.41976, accu: 0.84906, speed: 9.31 step/s\n",
      "eval dev loss: 0.57297, accu: 0.73086\n",
      "global step 410, epoch: 1, batch: 410, loss: 0.54800, accu: 0.85625, speed: 0.91 step/s\n",
      "global step 420, epoch: 1, batch: 420, loss: 0.51197, accu: 0.83437, speed: 10.19 step/s\n",
      "global step 430, epoch: 1, batch: 430, loss: 0.50856, accu: 0.84167, speed: 10.08 step/s\n",
      "global step 440, epoch: 1, batch: 440, loss: 0.48616, accu: 0.84766, speed: 10.22 step/s\n",
      "global step 450, epoch: 1, batch: 450, loss: 0.39177, accu: 0.84750, speed: 9.58 step/s\n",
      "global step 460, epoch: 1, batch: 460, loss: 0.45847, accu: 0.84844, speed: 9.03 step/s\n",
      "global step 470, epoch: 1, batch: 470, loss: 0.36697, accu: 0.85536, speed: 9.60 step/s\n",
      "global step 480, epoch: 1, batch: 480, loss: 0.46171, accu: 0.85469, speed: 9.53 step/s\n",
      "global step 490, epoch: 1, batch: 490, loss: 0.37257, accu: 0.85833, speed: 10.06 step/s\n",
      "global step 500, epoch: 1, batch: 500, loss: 0.43179, accu: 0.85844, speed: 9.26 step/s\n",
      "eval dev loss: 0.51311, accu: 0.79016\n",
      "global step 510, epoch: 1, batch: 510, loss: 0.39323, accu: 0.86562, speed: 0.91 step/s\n",
      "global step 520, epoch: 1, batch: 520, loss: 0.50145, accu: 0.86719, speed: 10.36 step/s\n",
      "global step 530, epoch: 1, batch: 530, loss: 0.40434, accu: 0.86250, speed: 10.31 step/s\n",
      "global step 540, epoch: 1, batch: 540, loss: 0.40986, accu: 0.85313, speed: 9.33 step/s\n",
      "global step 550, epoch: 1, batch: 550, loss: 0.46896, accu: 0.86062, speed: 10.34 step/s\n",
      "global step 560, epoch: 1, batch: 560, loss: 0.41369, accu: 0.85990, speed: 9.96 step/s\n",
      "global step 570, epoch: 1, batch: 570, loss: 0.37580, accu: 0.86339, speed: 9.55 step/s\n",
      "global step 580, epoch: 1, batch: 580, loss: 0.34060, accu: 0.86406, speed: 9.85 step/s\n",
      "global step 590, epoch: 1, batch: 590, loss: 0.46856, accu: 0.86076, speed: 9.34 step/s\n",
      "global step 600, epoch: 1, batch: 600, loss: 0.47370, accu: 0.86000, speed: 9.43 step/s\n",
      "eval dev loss: 0.53891, accu: 0.77107\n",
      "global step 610, epoch: 1, batch: 610, loss: 0.45520, accu: 0.87500, speed: 0.91 step/s\n",
      "global step 620, epoch: 1, batch: 620, loss: 0.53260, accu: 0.85625, speed: 9.79 step/s\n",
      "global step 630, epoch: 1, batch: 630, loss: 0.46903, accu: 0.84688, speed: 8.89 step/s\n",
      "global step 640, epoch: 1, batch: 640, loss: 0.51608, accu: 0.84219, speed: 10.03 step/s\n",
      "global step 650, epoch: 1, batch: 650, loss: 0.33100, accu: 0.85125, speed: 10.69 step/s\n",
      "global step 660, epoch: 1, batch: 660, loss: 0.41314, accu: 0.85677, speed: 9.93 step/s\n",
      "global step 670, epoch: 1, batch: 670, loss: 0.42545, accu: 0.85580, speed: 9.77 step/s\n",
      "global step 680, epoch: 1, batch: 680, loss: 0.50166, accu: 0.85469, speed: 9.50 step/s\n",
      "global step 690, epoch: 1, batch: 690, loss: 0.42872, accu: 0.84826, speed: 9.46 step/s\n",
      "global step 700, epoch: 1, batch: 700, loss: 0.59815, accu: 0.84906, speed: 8.41 step/s\n",
      "eval dev loss: 0.61329, accu: 0.697\n",
      "global step 710, epoch: 1, batch: 710, loss: 0.56448, accu: 0.75938, speed: 0.92 step/s\n",
      "global step 720, epoch: 1, batch: 720, loss: 0.41004, accu: 0.80156, speed: 10.79 step/s\n",
      "global step 730, epoch: 1, batch: 730, loss: 0.47134, accu: 0.81979, speed: 9.08 step/s\n",
      "global step 740, epoch: 1, batch: 740, loss: 0.40610, accu: 0.83359, speed: 9.37 step/s\n",
      "global step 750, epoch: 1, batch: 750, loss: 0.41934, accu: 0.84250, speed: 8.41 step/s\n",
      "global step 760, epoch: 1, batch: 760, loss: 0.48023, accu: 0.84531, speed: 10.03 step/s\n",
      "global step 770, epoch: 1, batch: 770, loss: 0.46697, accu: 0.84330, speed: 9.87 step/s\n",
      "global step 780, epoch: 1, batch: 780, loss: 0.41145, accu: 0.83711, speed: 9.70 step/s\n",
      "global step 790, epoch: 1, batch: 790, loss: 0.53086, accu: 0.83507, speed: 9.37 step/s\n",
      "global step 800, epoch: 1, batch: 800, loss: 0.39995, accu: 0.83469, speed: 9.30 step/s\n",
      "eval dev loss: 0.53849, accu: 0.76983\n",
      "global step 810, epoch: 1, batch: 810, loss: 0.43823, accu: 0.85625, speed: 0.89 step/s\n",
      "global step 820, epoch: 1, batch: 820, loss: 0.57388, accu: 0.83906, speed: 10.25 step/s\n",
      "global step 830, epoch: 1, batch: 830, loss: 0.42260, accu: 0.84688, speed: 10.49 step/s\n",
      "global step 840, epoch: 1, batch: 840, loss: 0.47145, accu: 0.85156, speed: 9.04 step/s\n",
      "global step 850, epoch: 1, batch: 850, loss: 0.49491, accu: 0.85000, speed: 9.74 step/s\n",
      "global step 860, epoch: 1, batch: 860, loss: 0.52294, accu: 0.84948, speed: 9.23 step/s\n",
      "global step 870, epoch: 1, batch: 870, loss: 0.39810, accu: 0.85714, speed: 9.39 step/s\n",
      "global step 880, epoch: 1, batch: 880, loss: 0.55888, accu: 0.85820, speed: 9.39 step/s\n",
      "global step 890, epoch: 1, batch: 890, loss: 0.50255, accu: 0.85833, speed: 9.90 step/s\n",
      "global step 900, epoch: 1, batch: 900, loss: 0.40820, accu: 0.85313, speed: 9.44 step/s\n",
      "eval dev loss: 0.6067, accu: 0.70393\n",
      "global step 910, epoch: 1, batch: 910, loss: 0.49000, accu: 0.80625, speed: 0.91 step/s\n",
      "global step 920, epoch: 1, batch: 920, loss: 0.54942, accu: 0.81875, speed: 8.99 step/s\n",
      "global step 930, epoch: 1, batch: 930, loss: 0.68464, accu: 0.80625, speed: 9.98 step/s\n",
      "global step 940, epoch: 1, batch: 940, loss: 0.43826, accu: 0.80469, speed: 10.12 step/s\n",
      "global step 950, epoch: 1, batch: 950, loss: 0.59151, accu: 0.80500, speed: 9.46 step/s\n",
      "global step 960, epoch: 1, batch: 960, loss: 0.54506, accu: 0.81094, speed: 9.54 step/s\n",
      "global step 970, epoch: 1, batch: 970, loss: 0.84449, accu: 0.79688, speed: 10.12 step/s\n",
      "global step 980, epoch: 1, batch: 980, loss: 0.57791, accu: 0.78867, speed: 9.41 step/s\n",
      "global step 990, epoch: 1, batch: 990, loss: 0.34584, accu: 0.79132, speed: 9.06 step/s\n",
      "global step 1000, epoch: 1, batch: 1000, loss: 0.68725, accu: 0.79031, speed: 9.19 step/s\n",
      "eval dev loss: 0.66844, accu: 0.64122\n",
      "global step 1010, epoch: 1, batch: 1010, loss: 0.49006, accu: 0.81875, speed: 0.90 step/s\n",
      "global step 1020, epoch: 1, batch: 1020, loss: 0.51027, accu: 0.81563, speed: 9.11 step/s\n",
      "global step 1030, epoch: 1, batch: 1030, loss: 0.43673, accu: 0.80312, speed: 8.81 step/s\n",
      "global step 1040, epoch: 1, batch: 1040, loss: 0.87581, accu: 0.77656, speed: 8.58 step/s\n",
      "global step 1050, epoch: 1, batch: 1050, loss: 0.84449, accu: 0.71313, speed: 9.43 step/s\n",
      "global step 1060, epoch: 1, batch: 1060, loss: 0.93824, accu: 0.67135, speed: 10.34 step/s\n",
      "global step 1070, epoch: 1, batch: 1070, loss: 0.78199, accu: 0.63527, speed: 9.54 step/s\n",
      "global step 1080, epoch: 1, batch: 1080, loss: 0.87573, accu: 0.60781, speed: 10.84 step/s\n",
      "global step 1090, epoch: 1, batch: 1090, loss: 0.51395, accu: 0.61736, speed: 9.20 step/s\n",
      "global step 1100, epoch: 1, batch: 1100, loss: 0.59894, accu: 0.63594, speed: 10.24 step/s\n",
      "eval dev loss: 0.57827, accu: 0.73074\n",
      "global step 1110, epoch: 1, batch: 1110, loss: 0.52762, accu: 0.78750, speed: 0.88 step/s\n",
      "global step 1120, epoch: 1, batch: 1120, loss: 0.55890, accu: 0.78594, speed: 8.87 step/s\n",
      "global step 1130, epoch: 1, batch: 1130, loss: 0.48108, accu: 0.79271, speed: 9.45 step/s\n",
      "global step 1140, epoch: 1, batch: 1140, loss: 0.49045, accu: 0.80000, speed: 10.01 step/s\n",
      "global step 1150, epoch: 1, batch: 1150, loss: 0.45954, accu: 0.80563, speed: 8.74 step/s\n",
      "global step 1160, epoch: 1, batch: 1160, loss: 0.47117, accu: 0.81146, speed: 10.33 step/s\n",
      "global step 1170, epoch: 1, batch: 1170, loss: 0.49271, accu: 0.81250, speed: 8.63 step/s\n",
      "global step 1180, epoch: 1, batch: 1180, loss: 0.49038, accu: 0.82031, speed: 8.00 step/s\n",
      "global step 1190, epoch: 1, batch: 1190, loss: 0.40692, accu: 0.82292, speed: 8.32 step/s\n",
      "global step 1200, epoch: 1, batch: 1200, loss: 0.38824, accu: 0.82625, speed: 8.67 step/s\n",
      "eval dev loss: 0.53817, accu: 0.76892\n",
      "global step 1210, epoch: 1, batch: 1210, loss: 0.44482, accu: 0.89375, speed: 0.90 step/s\n",
      "global step 1220, epoch: 1, batch: 1220, loss: 0.47808, accu: 0.85781, speed: 8.60 step/s\n",
      "global step 1230, epoch: 1, batch: 1230, loss: 0.41258, accu: 0.84688, speed: 9.59 step/s\n",
      "global step 1240, epoch: 1, batch: 1240, loss: 0.56342, accu: 0.83984, speed: 9.83 step/s\n",
      "global step 1250, epoch: 1, batch: 1250, loss: 0.43687, accu: 0.83875, speed: 9.83 step/s\n",
      "global step 1260, epoch: 1, batch: 1260, loss: 0.46969, accu: 0.82760, speed: 9.14 step/s\n",
      "global step 1270, epoch: 1, batch: 1270, loss: 0.53081, accu: 0.83080, speed: 9.90 step/s\n",
      "global step 1280, epoch: 1, batch: 1280, loss: 0.44252, accu: 0.83281, speed: 9.19 step/s\n",
      "global step 1290, epoch: 1, batch: 1290, loss: 0.50932, accu: 0.83194, speed: 10.72 step/s\n",
      "global step 1300, epoch: 1, batch: 1300, loss: 0.43622, accu: 0.83375, speed: 9.91 step/s\n",
      "eval dev loss: 0.53977, accu: 0.76142\n",
      "global step 1310, epoch: 1, batch: 1310, loss: 0.46079, accu: 0.88125, speed: 0.90 step/s\n",
      "global step 1320, epoch: 1, batch: 1320, loss: 0.47670, accu: 0.86719, speed: 9.94 step/s\n",
      "global step 1330, epoch: 1, batch: 1330, loss: 0.40757, accu: 0.85625, speed: 9.49 step/s\n",
      "global step 1340, epoch: 1, batch: 1340, loss: 0.50357, accu: 0.84453, speed: 11.00 step/s\n",
      "global step 1350, epoch: 1, batch: 1350, loss: 0.54791, accu: 0.83688, speed: 9.26 step/s\n",
      "global step 1360, epoch: 1, batch: 1360, loss: 0.48184, accu: 0.83542, speed: 9.45 step/s\n",
      "global step 1370, epoch: 1, batch: 1370, loss: 0.48503, accu: 0.83929, speed: 9.34 step/s\n",
      "global step 1380, epoch: 1, batch: 1380, loss: 0.43355, accu: 0.84062, speed: 9.69 step/s\n",
      "global step 1390, epoch: 1, batch: 1390, loss: 0.42043, accu: 0.83958, speed: 9.99 step/s\n",
      "global step 1400, epoch: 1, batch: 1400, loss: 0.44429, accu: 0.83875, speed: 9.28 step/s\n",
      "eval dev loss: 0.52565, accu: 0.7838\n",
      "global step 1410, epoch: 1, batch: 1410, loss: 0.52913, accu: 0.83437, speed: 0.91 step/s\n",
      "global step 1420, epoch: 1, batch: 1420, loss: 0.47923, accu: 0.84219, speed: 8.35 step/s\n",
      "global step 1430, epoch: 1, batch: 1430, loss: 0.50575, accu: 0.84271, speed: 9.97 step/s\n",
      "global step 1440, epoch: 1, batch: 1440, loss: 0.40749, accu: 0.83594, speed: 9.25 step/s\n",
      "global step 1450, epoch: 1, batch: 1450, loss: 0.47085, accu: 0.83688, speed: 10.07 step/s\n",
      "global step 1460, epoch: 1, batch: 1460, loss: 0.58831, accu: 0.83542, speed: 9.66 step/s\n",
      "global step 1470, epoch: 1, batch: 1470, loss: 0.52955, accu: 0.82054, speed: 9.71 step/s\n",
      "global step 1480, epoch: 1, batch: 1480, loss: 0.52266, accu: 0.82227, speed: 9.40 step/s\n",
      "global step 1490, epoch: 1, batch: 1490, loss: 0.51081, accu: 0.82361, speed: 10.58 step/s\n",
      "global step 1500, epoch: 1, batch: 1500, loss: 0.46943, accu: 0.82563, speed: 10.17 step/s\n",
      "eval dev loss: 0.56855, accu: 0.74154\n",
      "global step 1510, epoch: 1, batch: 1510, loss: 0.37260, accu: 0.84375, speed: 0.91 step/s\n",
      "global step 1520, epoch: 1, batch: 1520, loss: 0.52069, accu: 0.83125, speed: 9.86 step/s\n",
      "global step 1530, epoch: 1, batch: 1530, loss: 0.40863, accu: 0.83542, speed: 8.89 step/s\n",
      "global step 1540, epoch: 1, batch: 1540, loss: 0.39786, accu: 0.84141, speed: 9.55 step/s\n",
      "global step 1550, epoch: 1, batch: 1550, loss: 0.34307, accu: 0.84688, speed: 9.11 step/s\n",
      "global step 1560, epoch: 1, batch: 1560, loss: 0.45688, accu: 0.85104, speed: 10.90 step/s\n",
      "global step 1570, epoch: 1, batch: 1570, loss: 0.44520, accu: 0.85134, speed: 9.33 step/s\n",
      "global step 1580, epoch: 1, batch: 1580, loss: 0.45392, accu: 0.84961, speed: 8.66 step/s\n",
      "global step 1590, epoch: 1, batch: 1590, loss: 0.41248, accu: 0.85451, speed: 10.00 step/s\n",
      "global step 1600, epoch: 1, batch: 1600, loss: 0.48446, accu: 0.85375, speed: 9.18 step/s\n",
      "eval dev loss: 0.5138, accu: 0.79198\n",
      "global step 1610, epoch: 1, batch: 1610, loss: 0.54515, accu: 0.80000, speed: 0.92 step/s\n",
      "global step 1620, epoch: 1, batch: 1620, loss: 0.44777, accu: 0.82500, speed: 9.82 step/s\n",
      "global step 1630, epoch: 1, batch: 1630, loss: 0.51015, accu: 0.83854, speed: 9.23 step/s\n",
      "global step 1640, epoch: 1, batch: 1640, loss: 0.41218, accu: 0.84766, speed: 9.44 step/s\n",
      "global step 1650, epoch: 1, batch: 1650, loss: 0.45714, accu: 0.84688, speed: 8.75 step/s\n",
      "global step 1660, epoch: 1, batch: 1660, loss: 0.44538, accu: 0.84948, speed: 9.12 step/s\n",
      "global step 1670, epoch: 1, batch: 1670, loss: 0.50809, accu: 0.85134, speed: 9.46 step/s\n",
      "global step 1680, epoch: 1, batch: 1680, loss: 0.40774, accu: 0.85078, speed: 10.21 step/s\n",
      "global step 1690, epoch: 1, batch: 1690, loss: 0.44292, accu: 0.85243, speed: 9.13 step/s\n",
      "global step 1700, epoch: 1, batch: 1700, loss: 0.43368, accu: 0.85344, speed: 9.78 step/s\n",
      "eval dev loss: 0.53597, accu: 0.77369\n",
      "global step 1710, epoch: 1, batch: 1710, loss: 0.42981, accu: 0.84688, speed: 0.91 step/s\n",
      "global step 1720, epoch: 1, batch: 1720, loss: 0.44065, accu: 0.85781, speed: 9.93 step/s\n",
      "global step 1730, epoch: 1, batch: 1730, loss: 0.41633, accu: 0.84896, speed: 9.11 step/s\n",
      "global step 1740, epoch: 1, batch: 1740, loss: 0.47254, accu: 0.84531, speed: 9.44 step/s\n",
      "global step 1750, epoch: 1, batch: 1750, loss: 0.40706, accu: 0.84250, speed: 10.19 step/s\n",
      "global step 1760, epoch: 1, batch: 1760, loss: 0.44020, accu: 0.83594, speed: 9.11 step/s\n",
      "global step 1770, epoch: 1, batch: 1770, loss: 0.46952, accu: 0.83214, speed: 9.19 step/s\n",
      "global step 1780, epoch: 1, batch: 1780, loss: 0.45446, accu: 0.83242, speed: 10.24 step/s\n",
      "global step 1790, epoch: 1, batch: 1790, loss: 0.40742, accu: 0.83611, speed: 9.70 step/s\n",
      "global step 1800, epoch: 1, batch: 1800, loss: 0.40714, accu: 0.84031, speed: 9.87 step/s\n",
      "eval dev loss: 0.54947, accu: 0.76278\n",
      "global step 1810, epoch: 1, batch: 1810, loss: 0.50077, accu: 0.85313, speed: 0.90 step/s\n",
      "global step 1820, epoch: 1, batch: 1820, loss: 0.50075, accu: 0.85469, speed: 10.02 step/s\n",
      "global step 1830, epoch: 1, batch: 1830, loss: 0.37579, accu: 0.85729, speed: 9.42 step/s\n",
      "global step 1840, epoch: 1, batch: 1840, loss: 0.53129, accu: 0.85391, speed: 9.82 step/s\n",
      "global step 1850, epoch: 1, batch: 1850, loss: 0.37578, accu: 0.85938, speed: 8.82 step/s\n",
      "global step 1860, epoch: 1, batch: 1860, loss: 0.37579, accu: 0.86042, speed: 9.63 step/s\n",
      "global step 1870, epoch: 1, batch: 1870, loss: 0.45602, accu: 0.86161, speed: 9.74 step/s\n",
      "global step 1880, epoch: 1, batch: 1880, loss: 0.62358, accu: 0.85664, speed: 9.58 step/s\n",
      "global step 1890, epoch: 1, batch: 1890, loss: 0.44550, accu: 0.85104, speed: 8.61 step/s\n",
      "global step 1900, epoch: 1, batch: 1900, loss: 0.53030, accu: 0.85125, speed: 10.30 step/s\n",
      "eval dev loss: 0.53956, accu: 0.7638\n",
      "global step 1910, epoch: 1, batch: 1910, loss: 0.53080, accu: 0.85000, speed: 0.90 step/s\n",
      "global step 1920, epoch: 1, batch: 1920, loss: 0.58986, accu: 0.84062, speed: 9.53 step/s\n",
      "global step 1930, epoch: 1, batch: 1930, loss: 0.34571, accu: 0.85208, speed: 9.09 step/s\n",
      "global step 1940, epoch: 1, batch: 1940, loss: 0.40830, accu: 0.83984, speed: 9.50 step/s\n",
      "global step 1950, epoch: 1, batch: 1950, loss: 0.46702, accu: 0.83188, speed: 10.12 step/s\n",
      "global step 1960, epoch: 1, batch: 1960, loss: 0.51251, accu: 0.82812, speed: 9.95 step/s\n",
      "global step 1970, epoch: 1, batch: 1970, loss: 0.50877, accu: 0.83348, speed: 8.93 step/s\n",
      "global step 1980, epoch: 1, batch: 1980, loss: 0.44793, accu: 0.83516, speed: 10.80 step/s\n",
      "global step 1990, epoch: 1, batch: 1990, loss: 0.43841, accu: 0.83819, speed: 9.65 step/s\n",
      "global step 2000, epoch: 1, batch: 2000, loss: 0.46948, accu: 0.84313, speed: 10.26 step/s\n",
      "eval dev loss: 0.54102, accu: 0.77073\n",
      "global step 2010, epoch: 1, batch: 2010, loss: 0.37707, accu: 0.86250, speed: 0.90 step/s\n",
      "global step 2020, epoch: 1, batch: 2020, loss: 0.46529, accu: 0.83906, speed: 9.80 step/s\n",
      "global step 2030, epoch: 1, batch: 2030, loss: 0.43815, accu: 0.84896, speed: 8.91 step/s\n",
      "global step 2040, epoch: 1, batch: 2040, loss: 0.57510, accu: 0.85078, speed: 8.88 step/s\n",
      "global step 2050, epoch: 1, batch: 2050, loss: 0.34454, accu: 0.85313, speed: 8.76 step/s\n",
      "global step 2060, epoch: 1, batch: 2060, loss: 0.49916, accu: 0.85208, speed: 9.83 step/s\n",
      "global step 2070, epoch: 1, batch: 2070, loss: 0.56642, accu: 0.85134, speed: 10.00 step/s\n",
      "global step 2080, epoch: 1, batch: 2080, loss: 0.43814, accu: 0.85313, speed: 9.85 step/s\n",
      "global step 2090, epoch: 1, batch: 2090, loss: 0.37334, accu: 0.84965, speed: 9.55 step/s\n",
      "global step 2100, epoch: 1, batch: 2100, loss: 0.50767, accu: 0.84875, speed: 10.17 step/s\n",
      "eval dev loss: 0.57259, accu: 0.73847\n"
     ]
    },
    {
     "ename": "KeyboardInterrupt",
     "evalue": "",
     "output_type": "error",
     "traceback": [
      "\u001b[0;31m---------------------------------------------------------------------------\u001b[0m",
      "\u001b[0;31mKeyboardInterrupt\u001b[0m                         Traceback (most recent call last)",
      "\u001b[0;32m<ipython-input-19-ad0239c746ce>\u001b[0m in \u001b[0;36m<module>\u001b[0;34m\u001b[0m\n\u001b[1;32m     24\u001b[0m             \u001b[0mtic_train\u001b[0m \u001b[0;34m=\u001b[0m \u001b[0mtime\u001b[0m\u001b[0;34m.\u001b[0m\u001b[0mtime\u001b[0m\u001b[0;34m(\u001b[0m\u001b[0;34m)\u001b[0m\u001b[0;34m\u001b[0m\u001b[0;34m\u001b[0m\u001b[0m\n\u001b[1;32m     25\u001b[0m         \u001b[0mloss\u001b[0m\u001b[0;34m.\u001b[0m\u001b[0mbackward\u001b[0m\u001b[0;34m(\u001b[0m\u001b[0;34m)\u001b[0m\u001b[0;34m\u001b[0m\u001b[0;34m\u001b[0m\u001b[0m\n\u001b[0;32m---> 26\u001b[0;31m         \u001b[0moptimizer\u001b[0m\u001b[0;34m.\u001b[0m\u001b[0mstep\u001b[0m\u001b[0;34m(\u001b[0m\u001b[0;34m)\u001b[0m\u001b[0;34m\u001b[0m\u001b[0;34m\u001b[0m\u001b[0m\n\u001b[0m\u001b[1;32m     27\u001b[0m         \u001b[0mlr_scheduler\u001b[0m\u001b[0;34m.\u001b[0m\u001b[0mstep\u001b[0m\u001b[0;34m(\u001b[0m\u001b[0;34m)\u001b[0m\u001b[0;34m\u001b[0m\u001b[0;34m\u001b[0m\u001b[0m\n\u001b[1;32m     28\u001b[0m         \u001b[0moptimizer\u001b[0m\u001b[0;34m.\u001b[0m\u001b[0mclear_grad\u001b[0m\u001b[0;34m(\u001b[0m\u001b[0;34m)\u001b[0m\u001b[0;34m\u001b[0m\u001b[0;34m\u001b[0m\u001b[0m\n",
      "\u001b[0;32m<decorator-gen-322>\u001b[0m in \u001b[0;36mstep\u001b[0;34m(self)\u001b[0m\n",
      "\u001b[0;32m/opt/conda/envs/python35-paddle120-env/lib/python3.7/site-packages/paddle/fluid/dygraph/base.py\u001b[0m in \u001b[0;36m__impl__\u001b[0;34m(func, *args, **kwargs)\u001b[0m\n\u001b[1;32m    259\u001b[0m         \u001b[0;32mdef\u001b[0m \u001b[0m__impl__\u001b[0m\u001b[0;34m(\u001b[0m\u001b[0mfunc\u001b[0m\u001b[0;34m,\u001b[0m \u001b[0;34m*\u001b[0m\u001b[0margs\u001b[0m\u001b[0;34m,\u001b[0m \u001b[0;34m**\u001b[0m\u001b[0mkwargs\u001b[0m\u001b[0;34m)\u001b[0m\u001b[0;34m:\u001b[0m\u001b[0;34m\u001b[0m\u001b[0;34m\u001b[0m\u001b[0m\n\u001b[1;32m    260\u001b[0m             \u001b[0;32mwith\u001b[0m \u001b[0m_switch_tracer_mode_guard_\u001b[0m\u001b[0;34m(\u001b[0m\u001b[0mis_train\u001b[0m\u001b[0;34m=\u001b[0m\u001b[0;32mFalse\u001b[0m\u001b[0;34m)\u001b[0m\u001b[0;34m:\u001b[0m\u001b[0;34m\u001b[0m\u001b[0;34m\u001b[0m\u001b[0m\n\u001b[0;32m--> 261\u001b[0;31m                 \u001b[0;32mreturn\u001b[0m \u001b[0mfunc\u001b[0m\u001b[0;34m(\u001b[0m\u001b[0;34m*\u001b[0m\u001b[0margs\u001b[0m\u001b[0;34m,\u001b[0m \u001b[0;34m**\u001b[0m\u001b[0mkwargs\u001b[0m\u001b[0;34m)\u001b[0m\u001b[0;34m\u001b[0m\u001b[0;34m\u001b[0m\u001b[0m\n\u001b[0m\u001b[1;32m    262\u001b[0m \u001b[0;34m\u001b[0m\u001b[0m\n\u001b[1;32m    263\u001b[0m         \u001b[0;32mreturn\u001b[0m \u001b[0m__impl__\u001b[0m\u001b[0;34m(\u001b[0m\u001b[0mfunc\u001b[0m\u001b[0;34m)\u001b[0m\u001b[0;34m\u001b[0m\u001b[0;34m\u001b[0m\u001b[0m\n",
      "\u001b[0;32m<decorator-gen-320>\u001b[0m in \u001b[0;36mstep\u001b[0;34m(self)\u001b[0m\n",
      "\u001b[0;32m/opt/conda/envs/python35-paddle120-env/lib/python3.7/site-packages/paddle/fluid/wrapped_decorator.py\u001b[0m in \u001b[0;36m__impl__\u001b[0;34m(func, *args, **kwargs)\u001b[0m\n\u001b[1;32m     23\u001b[0m     \u001b[0;32mdef\u001b[0m \u001b[0m__impl__\u001b[0m\u001b[0;34m(\u001b[0m\u001b[0mfunc\u001b[0m\u001b[0;34m,\u001b[0m \u001b[0;34m*\u001b[0m\u001b[0margs\u001b[0m\u001b[0;34m,\u001b[0m \u001b[0;34m**\u001b[0m\u001b[0mkwargs\u001b[0m\u001b[0;34m)\u001b[0m\u001b[0;34m:\u001b[0m\u001b[0;34m\u001b[0m\u001b[0;34m\u001b[0m\u001b[0m\n\u001b[1;32m     24\u001b[0m         \u001b[0mwrapped_func\u001b[0m \u001b[0;34m=\u001b[0m \u001b[0mdecorator_func\u001b[0m\u001b[0;34m(\u001b[0m\u001b[0mfunc\u001b[0m\u001b[0;34m)\u001b[0m\u001b[0;34m\u001b[0m\u001b[0;34m\u001b[0m\u001b[0m\n\u001b[0;32m---> 25\u001b[0;31m         \u001b[0;32mreturn\u001b[0m \u001b[0mwrapped_func\u001b[0m\u001b[0;34m(\u001b[0m\u001b[0;34m*\u001b[0m\u001b[0margs\u001b[0m\u001b[0;34m,\u001b[0m \u001b[0;34m**\u001b[0m\u001b[0mkwargs\u001b[0m\u001b[0;34m)\u001b[0m\u001b[0;34m\u001b[0m\u001b[0;34m\u001b[0m\u001b[0m\n\u001b[0m\u001b[1;32m     26\u001b[0m \u001b[0;34m\u001b[0m\u001b[0m\n\u001b[1;32m     27\u001b[0m     \u001b[0;32mreturn\u001b[0m \u001b[0m__impl__\u001b[0m\u001b[0;34m\u001b[0m\u001b[0;34m\u001b[0m\u001b[0m\n",
      "\u001b[0;32m/opt/conda/envs/python35-paddle120-env/lib/python3.7/site-packages/paddle/fluid/framework.py\u001b[0m in \u001b[0;36m__impl__\u001b[0;34m(*args, **kwargs)\u001b[0m\n\u001b[1;32m    223\u001b[0m         assert in_dygraph_mode(\n\u001b[1;32m    224\u001b[0m         ), \"We only support '%s()' in dynamic graph mode, please call 'paddle.disable_static()' to enter dynamic graph mode.\" % func.__name__\n\u001b[0;32m--> 225\u001b[0;31m         \u001b[0;32mreturn\u001b[0m \u001b[0mfunc\u001b[0m\u001b[0;34m(\u001b[0m\u001b[0;34m*\u001b[0m\u001b[0margs\u001b[0m\u001b[0;34m,\u001b[0m \u001b[0;34m**\u001b[0m\u001b[0mkwargs\u001b[0m\u001b[0;34m)\u001b[0m\u001b[0;34m\u001b[0m\u001b[0;34m\u001b[0m\u001b[0m\n\u001b[0m\u001b[1;32m    226\u001b[0m \u001b[0;34m\u001b[0m\u001b[0m\n\u001b[1;32m    227\u001b[0m     \u001b[0;32mreturn\u001b[0m \u001b[0m__impl__\u001b[0m\u001b[0;34m\u001b[0m\u001b[0;34m\u001b[0m\u001b[0m\n",
      "\u001b[0;32m/opt/conda/envs/python35-paddle120-env/lib/python3.7/site-packages/paddle/optimizer/adam.py\u001b[0m in \u001b[0;36mstep\u001b[0;34m(self)\u001b[0m\n\u001b[1;32m    355\u001b[0m                 \u001b[0;32mcontinue\u001b[0m\u001b[0;34m\u001b[0m\u001b[0;34m\u001b[0m\u001b[0m\n\u001b[1;32m    356\u001b[0m             \u001b[0;32mif\u001b[0m \u001b[0mparam\u001b[0m\u001b[0;34m.\u001b[0m\u001b[0m_grad_ivar\u001b[0m\u001b[0;34m(\u001b[0m\u001b[0;34m)\u001b[0m \u001b[0;32mis\u001b[0m \u001b[0;32mnot\u001b[0m \u001b[0;32mNone\u001b[0m\u001b[0;34m:\u001b[0m\u001b[0;34m\u001b[0m\u001b[0;34m\u001b[0m\u001b[0m\n\u001b[0;32m--> 357\u001b[0;31m                 \u001b[0mgrad_var\u001b[0m \u001b[0;34m=\u001b[0m \u001b[0mparam\u001b[0m\u001b[0;34m.\u001b[0m\u001b[0m_grad_ivar\u001b[0m\u001b[0;34m(\u001b[0m\u001b[0;34m)\u001b[0m\u001b[0;34m\u001b[0m\u001b[0;34m\u001b[0m\u001b[0m\n\u001b[0m\u001b[1;32m    358\u001b[0m                 if hasattr(grad_var, \"_is_sparse\") and grad_var._is_sparse(\n\u001b[1;32m    359\u001b[0m                 ) and self.regularization is not None:\n",
      "\u001b[0;31mKeyboardInterrupt\u001b[0m: "
     ]
    }
   ],
   "source": [
    "# 接下来，开始正式训练模型，训练时间较长，可注释掉这部分\n",
    "\n",
    "global_step = 0\n",
    "tic_train = time.time()\n",
    "\n",
    "for epoch in range(1, epochs + 1):\n",
    "    for step, batch in enumerate(train_data_loader, start=1):\n",
    "\n",
    "        input_ids, token_type_ids, labels = batch\n",
    "        probs = model(input_ids=input_ids, token_type_ids=token_type_ids)\n",
    "        loss = criterion(probs, labels)\n",
    "        correct = metric.compute(probs, labels)\n",
    "        metric.update(correct)\n",
    "        acc = metric.accumulate()\n",
    "\n",
    "        global_step += 1\n",
    "        \n",
    "        # 每间隔 10 step 输出训练指标\n",
    "        if global_step % 10 == 0:\n",
    "            print(\n",
    "                \"global step %d, epoch: %d, batch: %d, loss: %.5f, accu: %.5f, speed: %.2f step/s\"\n",
    "                % (global_step, epoch, step, loss, acc,\n",
    "                    10 / (time.time() - tic_train)))\n",
    "            tic_train = time.time()\n",
    "        loss.backward()\n",
    "        optimizer.step()\n",
    "        lr_scheduler.step()\n",
    "        optimizer.clear_grad()\n",
    "\n",
    "        # 每间隔 100 step 在验证集和测试集上进行评估\n",
    "        if global_step % 100 == 0:\n",
    "            evaluate(model, criterion, metric, dev_data_loader, \"dev\")\n",
    "\n",
    "for epoch in range(1, epochs + 1):\n",
    "    for step, batch in enumerate(train_data_loader1, start=1):\n",
    "\n",
    "        input_ids, token_type_ids, labels = batch\n",
    "        probs = model(input_ids=input_ids, token_type_ids=token_type_ids)\n",
    "        loss = criterion(probs, labels)\n",
    "        correct = metric.compute(probs, labels)\n",
    "        metric.update(correct)\n",
    "        acc = metric.accumulate()\n",
    "\n",
    "        global_step += 1\n",
    "        \n",
    "        # 每间隔 10 step 输出训练指标\n",
    "        if global_step % 10 == 0:\n",
    "            print(\n",
    "                \"global step %d, epoch: %d, batch: %d, loss: %.5f, accu: %.5f, speed: %.2f step/s\"\n",
    "                % (global_step, epoch, step, loss, acc,\n",
    "                    10 / (time.time() - tic_train)))\n",
    "            tic_train = time.time()\n",
    "        loss.backward()\n",
    "        optimizer.step()\n",
    "        lr_scheduler.step()\n",
    "        optimizer.clear_grad()\n",
    "\n",
    "        # 每间隔 100 step 在验证集和测试集上进行评估\n",
    "        if global_step % 100 == 0:\n",
    "            evaluate(model, criterion, metric, dev_data_loader, \"dev\")\n",
    "            \n",
    "# 训练结束后，存储模型参数\n",
    "save_dir = os.path.join(\"checkpoint\", \"model_%d\" % global_step)\n",
    "os.makedirs(save_dir)\n",
    "\n",
    "save_param_path = os.path.join(save_dir, 'model_state.pdparams')\n",
    "paddle.save(model.state_dict(), save_param_path)\n",
    "tokenizer.save_pretrained(save_dir)"
   ]
  },
  {
   "cell_type": "markdown",
   "metadata": {
    "collapsed": false
   },
   "source": [
    "模型训练过程中会输出如下日志:\n",
    "```\n",
    "global step 5310, epoch: 3, batch: 1578, loss: 0.31671, accu: 0.95000, speed: 0.63 step/s\n",
    "global step 5320, epoch: 3, batch: 1588, loss: 0.36240, accu: 0.94063, speed: 6.98 step/s\n",
    "global step 5330, epoch: 3, batch: 1598, loss: 0.41451, accu: 0.93854, speed: 7.40 step/s\n",
    "global step 5340, epoch: 3, batch: 1608, loss: 0.31327, accu: 0.94063, speed: 7.01 step/s\n",
    "global step 5350, epoch: 3, batch: 1618, loss: 0.40664, accu: 0.93563, speed: 7.83 step/s\n",
    "global step 5360, epoch: 3, batch: 1628, loss: 0.33064, accu: 0.93958, speed: 7.34 step/s\n",
    "global step 5370, epoch: 3, batch: 1638, loss: 0.38411, accu: 0.93795, speed: 7.72 step/s\n",
    "global step 5380, epoch: 3, batch: 1648, loss: 0.35376, accu: 0.93906, speed: 7.92 step/s\n",
    "global step 5390, epoch: 3, batch: 1658, loss: 0.39706, accu: 0.93924, speed: 7.47 step/s\n",
    "global step 5400, epoch: 3, batch: 1668, loss: 0.41198, accu: 0.93781, speed: 7.41 step/s\n",
    "eval dev loss: 0.4177, accu: 0.89082\n",
    "global step 5410, epoch: 3, batch: 1678, loss: 0.34453, accu: 0.93125, speed: 0.63 step/s\n",
    "global step 5420, epoch: 3, batch: 1688, loss: 0.34569, accu: 0.93906, speed: 7.75 step/s\n",
    "global step 5430, epoch: 3, batch: 1698, loss: 0.39160, accu: 0.92917, speed: 7.54 step/s\n",
    "global step 5440, epoch: 3, batch: 1708, loss: 0.46002, accu: 0.93125, speed: 7.05 step/s\n",
    "global step 5450, epoch: 3, batch: 1718, loss: 0.32302, accu: 0.93188, speed: 7.14 step/s\n",
    "global step 5460, epoch: 3, batch: 1728, loss: 0.40802, accu: 0.93281, speed: 7.22 step/s\n",
    "global step 5470, epoch: 3, batch: 1738, loss: 0.34607, accu: 0.93348, speed: 7.44 step/s\n",
    "global step 5480, epoch: 3, batch: 1748, loss: 0.34709, accu: 0.93398, speed: 7.38 step/s\n",
    "global step 5490, epoch: 3, batch: 1758, loss: 0.31814, accu: 0.93437, speed: 7.39 step/s\n",
    "global step 5500, epoch: 3, batch: 1768, loss: 0.42689, accu: 0.93125, speed: 7.74 step/s\n",
    "eval dev loss: 0.41789, accu: 0.88968\n",
    "```"
   ]
  },
  {
   "cell_type": "markdown",
   "metadata": {
    "collapsed": false
   },
   "source": [
    "基于默认参数配置进行单卡训练大概要持续 4 个小时左右，会训练完成 3 个 Epoch, 模型最终的收敛指标结果如下:\n",
    "\n",
    "\n",
    "| 数据集 | Accuracy |\n",
    "| -------- | -------- |\n",
    "| dev.tsv     | 89.62  |\n",
    "\n",
    "可以看到: 我们基于 PaddleNLP ，利用 ERNIE-Gram 预训练模型使用非常简洁的代码，就在权威语义匹配数据集上取得了很不错的效果."
   ]
  },
  {
   "cell_type": "markdown",
   "metadata": {
    "collapsed": false
   },
   "source": [
    "### 2.5 模型预测\n",
    "\n",
    "接下来我们使用已经训练好的语义匹配模型对一些预测数据进行预测。待预测数据为每行都是文本对的 tsv 文件，我们使用 Lcqmc 数据集的测试集作为我们的预测数据，进行预测并提交预测结果到 [千言文本相似度竞赛](https://aistudio.baidu.com/aistudio/competition/detail/45)\n",
    "\n",
    "下载我们已经训练好的语义匹配模型, 并解压"
   ]
  },
  {
   "cell_type": "code",
   "execution_count": 20,
   "metadata": {
    "collapsed": false
   },
   "outputs": [
    {
     "name": "stdout",
     "output_type": "stream",
     "text": [
      "--2021-06-13 19:35:35--  https://paddlenlp.bj.bcebos.com/models/text_matching/ernie_gram_zh_pointwise_matching_model.tar\n",
      "Resolving paddlenlp.bj.bcebos.com (paddlenlp.bj.bcebos.com)... 182.61.200.195, 182.61.200.229, 2409:8c00:6c21:10ad:0:ff:b00e:67d\n",
      "Connecting to paddlenlp.bj.bcebos.com (paddlenlp.bj.bcebos.com)|182.61.200.195|:443... connected.\n",
      "HTTP request sent, awaiting response... 200 OK\n",
      "Length: 597667840 (570M) [application/x-tar]\n",
      "Saving to: ‘ernie_gram_zh_pointwise_matching_model.tar.1’\n",
      "\n",
      "ernie_gram_zh_point 100%[===================>] 569.98M  9.50MB/s    in 32s     \n",
      "\n",
      "2021-06-13 19:36:07 (17.8 MB/s) - ‘ernie_gram_zh_pointwise_matching_model.tar.1’ saved [597667840/597667840]\n",
      "\n",
      "ernie_gram_zh_pointwise_matching_model/\n",
      "ernie_gram_zh_pointwise_matching_model/model_state.pdparams\n",
      "ernie_gram_zh_pointwise_matching_model/vocab.txt\n",
      "ernie_gram_zh_pointwise_matching_model/tokenizer_config.json\n"
     ]
    }
   ],
   "source": [
    "# 下载我们基于 Lcqmc 事先训练好的语义匹配模型并解压\n",
    "! wget https://paddlenlp.bj.bcebos.com/models/text_matching/ernie_gram_zh_pointwise_matching_model.tar\n",
    "! tar -xvf ernie_gram_zh_pointwise_matching_model.tar"
   ]
  },
  {
   "cell_type": "code",
   "execution_count": 21,
   "metadata": {
    "collapsed": false
   },
   "outputs": [
    {
     "name": "stdout",
     "output_type": "stream",
     "text": [
      "谁有狂三这张高清的\t这张高清图，谁有\r\n",
      "英雄联盟什么英雄最好\t英雄联盟最好英雄是什么\r\n",
      "这是什么意思，被蹭网吗\t我也是醉了，这是什么意思\r\n"
     ]
    }
   ],
   "source": [
    "# 测试数据由 2 列文本构成 tab 分隔\n",
    "# Lcqmc 默认下载到如下路径\n",
    "! head -n3 \"${HOME}/.paddlenlp/datasets/LCQMC/lcqmc/lcqmc/test.tsv\""
   ]
  },
  {
   "cell_type": "code",
   "execution_count": 22,
   "metadata": {
    "collapsed": false
   },
   "outputs": [
    {
     "data": {
      "text/plain": [
       "'/home/aistudio'"
      ]
     },
     "execution_count": 22,
     "metadata": {},
     "output_type": "execute_result"
    }
   ],
   "source": [
    "pwd"
   ]
  },
  {
   "cell_type": "markdown",
   "metadata": {
    "collapsed": false
   },
   "source": [
    "#### 定义预测函数"
   ]
  },
  {
   "cell_type": "code",
   "execution_count": 29,
   "metadata": {
    "collapsed": false
   },
   "outputs": [],
   "source": [
    "\n",
    "def predict(model, data_loader):\n",
    "    \n",
    "    batch_probs = []\n",
    "\n",
    "    # 预测阶段打开 eval 模式，模型中的 dropout 等操作会关掉\n",
    "    model.eval()\n",
    "\n",
    "    with paddle.no_grad():\n",
    "        for batch_data in data_loader:\n",
    "            input_ids, token_type_ids = batch_data\n",
    "            input_ids = paddle.to_tensor(input_ids)\n",
    "            token_type_ids = paddle.to_tensor(token_type_ids)\n",
    "            \n",
    "            # 获取每个样本的预测概率: [batch_size, 2] 的矩阵\n",
    "            batch_prob = model(\n",
    "                input_ids=input_ids, token_type_ids=token_type_ids).numpy()\n",
    "\n",
    "            batch_probs.append(batch_prob)\n",
    "        batch_probs = np.concatenate(batch_probs, axis=0)\n",
    "\n",
    "        return batch_probs"
   ]
  },
  {
   "cell_type": "markdown",
   "metadata": {
    "collapsed": false
   },
   "source": [
    "#### 定义预测数据的 data_loader"
   ]
  },
  {
   "cell_type": "code",
   "execution_count": 51,
   "metadata": {
    "collapsed": false
   },
   "outputs": [],
   "source": [
    "# 预测数据的转换函数\n",
    "# predict 数据没有 label, 因此 convert_exmaple 的 is_test 参数设为 True\n",
    "trans_func = partial(\n",
    "    convert_example,\n",
    "    tokenizer=tokenizer,\n",
    "    max_seq_length=512,\n",
    "    is_test=True)\n",
    "\n",
    "# 预测数据的组 batch 操作\n",
    "# predict 数据只返回 input_ids 和 token_type_ids，因此只需要 2 个 Pad 对象作为 batchify_fn\n",
    "batchify_fn = lambda samples, fn=Tuple(\n",
    "    Pad(axis=0, pad_val=tokenizer.pad_token_id),  # input_ids\n",
    "    Pad(axis=0, pad_val=tokenizer.pad_token_type_id),  # segment_ids\n",
    "): [data for data in fn(samples)]\n",
    "#test_ds = load_dataset(\"lcqmc\",data_files=\"bq_corpus/test.tsv\")\n",
    "test_ds = load_dataset(\"lcqmc\",data_files=\"paws-x-zh/test.tsv\")\n",
    "\n",
    "# 加载预测数据\n",
    "#test_ds = load_dataset(\"lcqmc\", splits=[\"test\"])"
   ]
  },
  {
   "cell_type": "code",
   "execution_count": 52,
   "metadata": {
    "collapsed": false
   },
   "outputs": [
    {
     "name": "stdout",
     "output_type": "stream",
     "text": [
      "{'query': '2005 年末至 2009 年期间是例外，当时他效力于瑞典的卡斯塔德联队、塞尔维亚的查查克足球俱乐部和俄罗斯的格罗兹尼特里克足球俱乐部。', 'title': '例外情况发生于 2005 年末至 2009 年期间，当时他效力于瑞典的卡斯塔德联队、塞尔维亚的查查克足球俱乐部和俄罗斯的格罗兹尼艾卡马特足球俱乐部。', 'label': ''}\n",
      "{'query': 'Tabaci 河是罗马尼亚 Leurda 河的支流。', 'title': 'Leurda 河是罗马尼亚境内 Tabaci 河的一条支流。', 'label': ''}\n",
      "{'query': '1993 年，他为 A 级的坎恩郡美洲狮队和 AA 级的波特兰海狗队效力。', 'title': '1993 年，他为 A 级球队波特兰海狗队和 AA 级球队凯恩县美洲狮队效力。', 'label': ''}\n",
      "{'query': 'Winarsky 是 IEEE、Phi Beta Kappa、ACM 和 Sigma Xi 的成员。', 'title': '温那斯基是 ACM、IEEE、Phi Beta Kappa 和 Sigma Xi 的成员。', 'label': ''}\n",
      "{'query': '1938 年，他成为英埃苏丹的政府人类学家，并领导对努巴的实地考察工作。', 'title': '1938 年，他成为英埃苏丹政府的人类学家，并与努巴一起从事野外工作。', 'label': ''}\n"
     ]
    }
   ],
   "source": [
    "for i in range(5):\r\n",
    "    print(test_ds[i])"
   ]
  },
  {
   "cell_type": "code",
   "execution_count": 53,
   "metadata": {
    "collapsed": false
   },
   "outputs": [],
   "source": [
    "batch_sampler = paddle.io.BatchSampler(test_ds, batch_size=32, shuffle=False)\n",
    "\n",
    "# 生成预测数据 data_loader\n",
    "predict_data_loader =paddle.io.DataLoader(\n",
    "        dataset=test_ds.map(trans_func),\n",
    "        batch_sampler=batch_sampler,\n",
    "        collate_fn=batchify_fn,\n",
    "        return_list=True)"
   ]
  },
  {
   "cell_type": "markdown",
   "metadata": {
    "collapsed": false
   },
   "source": [
    "#### 定义预测模型"
   ]
  },
  {
   "cell_type": "code",
   "execution_count": 54,
   "metadata": {
    "collapsed": false
   },
   "outputs": [
    {
     "name": "stderr",
     "output_type": "stream",
     "text": [
      "[2021-06-13 19:52:03,634] [    INFO] - Already cached /home/aistudio/.paddlenlp/models/ernie-gram-zh/ernie_gram_zh.pdparams\n"
     ]
    }
   ],
   "source": [
    "pretrained_model = paddlenlp.transformers.ErnieGramModel.from_pretrained('ernie-gram-zh')\n",
    "\n",
    "model = PointwiseMatching(pretrained_model)"
   ]
  },
  {
   "cell_type": "markdown",
   "metadata": {
    "collapsed": false
   },
   "source": [
    "#### 加载已训练好的模型参数"
   ]
  },
  {
   "cell_type": "code",
   "execution_count": 26,
   "metadata": {
    "collapsed": false
   },
   "outputs": [],
   "source": [
    "# 刚才下载的模型解压之后存储路径为 ./ernie_gram_zh_pointwise_matching_model/model_state.pdparams\n",
    "state_dict = paddle.load(\"./ernie_gram_zh_pointwise_matching_model/model_state.pdparams\")\n",
    "\n",
    "# 刚才下载的模型解压之后存储路径为 ./pointwise_matching_model/ernie1.0_base_pointwise_matching.pdparams\n",
    "# state_dict = paddle.load(\"pointwise_matching_model/ernie1.0_base_pointwise_matching.pdparams\")\n",
    "model.set_dict(state_dict)"
   ]
  },
  {
   "cell_type": "markdown",
   "metadata": {
    "collapsed": false
   },
   "source": [
    "#### 开始预测"
   ]
  },
  {
   "cell_type": "code",
   "execution_count": 55,
   "metadata": {
    "collapsed": false
   },
   "outputs": [
    {
     "name": "stdout",
     "output_type": "stream",
     "text": [
      "[Tensor(shape=[32, 126], dtype=int64, place=CUDAPinnedPlace, stop_gradient=True,\n",
      "       [[1    , 1464 , 17   , ..., 64   , 12043, 2    ],\n",
      "        [1    , 10468, 9892 , ..., 0    , 0    , 0    ],\n",
      "        [1    , 2115 , 17   , ..., 0    , 0    , 0    ],\n",
      "        ...,\n",
      "        [1    , 188  , 20   , ..., 0    , 0    , 0    ],\n",
      "        [1    , 11   , 5700 , ..., 0    , 0    , 0    ],\n",
      "        [1    , 11   , 37   , ..., 0    , 0    , 0    ]]), Tensor(shape=[32, 126], dtype=int64, place=CUDAPinnedPlace, stop_gradient=True,\n",
      "       [[0, 0, 0, ..., 1, 1, 1],\n",
      "        [0, 0, 0, ..., 0, 0, 0],\n",
      "        [0, 0, 0, ..., 0, 0, 0],\n",
      "        ...,\n",
      "        [0, 0, 0, ..., 0, 0, 0],\n",
      "        [0, 0, 0, ..., 0, 0, 0],\n",
      "        [0, 0, 0, ..., 0, 0, 0]])]\n"
     ]
    }
   ],
   "source": [
    "for idx, batch in enumerate(predict_data_loader):\n",
    "    if idx < 1:\n",
    "        print(batch)"
   ]
  },
  {
   "cell_type": "code",
   "execution_count": 56,
   "metadata": {
    "collapsed": false
   },
   "outputs": [],
   "source": [
    "# 执行预测函数\n",
    "y_probs = predict(model, predict_data_loader)\n",
    "\n",
    "# 根据预测概率获取预测 label\n",
    "y_preds = np.argmax(y_probs, axis=1)"
   ]
  },
  {
   "cell_type": "code",
   "execution_count": 57,
   "metadata": {
    "collapsed": false
   },
   "outputs": [
    {
     "name": "stdout",
     "output_type": "stream",
     "text": [
      "1582 418\n"
     ]
    }
   ],
   "source": [
    "k=s=0\r\n",
    "for i in y_preds:\r\n",
    "    if i==0:\r\n",
    "        k+=1\r\n",
    "    else:\r\n",
    "        s+=1\r\n",
    "print(s,k)"
   ]
  },
  {
   "cell_type": "markdown",
   "metadata": {
    "collapsed": false
   },
   "source": [
    "#### 输出预测结果"
   ]
  },
  {
   "cell_type": "code",
   "execution_count": null,
   "metadata": {
    "collapsed": false
   },
   "outputs": [
    {
     "name": "stdout",
     "output_type": "stream",
     "text": [
      "{'query': '谁有狂三这张高清的', 'title': '这张高清图，谁有', 'label': 0}\n",
      "{'query': '英雄联盟什么英雄最好', 'title': '英雄联盟最好英雄是什么', 'label': 1}\n",
      "{'query': '这是什么意思，被蹭网吗', 'title': '我也是醉了，这是什么意思', 'label': 0}\n",
      "{'query': '现在有什么动画片好看呢？', 'title': '现在有什么好看的动画片吗？', 'label': 1}\n",
      "{'query': '请问晶达电子厂现在的工资待遇怎么样要求有哪些', 'title': '三星电子厂工资待遇怎么样啊', 'label': 1}\n",
      "{'query': '文章真的爱姚笛吗', 'title': '姚笛真的被文章干了吗', 'label': 1}\n",
      "{'query': '送自己做的闺蜜什么生日礼物好', 'title': '送闺蜜什么生日礼物好', 'label': 0}\n",
      "{'query': '近期上映的电影', 'title': '近期上映的电影有哪些', 'label': 1}\n",
      "{'query': '求英雄联盟大神带？', 'title': '英雄联盟，求大神带~', 'label': 1}\n",
      "{'query': '如加上什么部首', 'title': '给东加上部首是什么字？', 'label': 1}\n",
      "{'query': '杭州哪里好玩', 'title': '杭州哪里好玩点', 'label': 1}\n",
      "{'query': '这是什么乌龟值钱吗', 'title': '这是什么乌龟！值钱嘛？', 'label': 1}\n",
      "{'query': '心各有所属是什么意思？', 'title': '心有所属是什么意思?', 'label': 1}\n",
      "{'query': '什么东西越热爬得越高', 'title': '什么东西越热爬得很高', 'label': 1}\n",
      "{'query': '世界杯哪位球员进球最多', 'title': '世界杯单界进球最多是哪位球员', 'label': 0}\n",
      "{'query': '韭菜多吃什么好处', 'title': '多吃韭菜有什么好处', 'label': 0}\n",
      "{'query': '云赚钱怎么样', 'title': '怎么才能赚钱', 'label': 1}\n",
      "{'query': '何炅结婚了嘛', 'title': '何炅结婚了么', 'label': 1}\n",
      "{'query': '长的清新是什么意思', 'title': '小清新的意思是什么', 'label': 1}\n",
      "{'query': '我们可以结婚了吗？', 'title': '在熙结婚了吗？', 'label': 1}\n",
      "{'query': '想买男人酒补肾壮阳酒哪里有啊', 'title': '哪里有男人酒补肾壮阳酒', 'label': 1}\n",
      "{'query': '淘宝上怎么用信用卡分期付款', 'title': '淘宝怎么分期付款，没有信用卡', 'label': 1}\n",
      "{'query': '最近有没有什么好看的韩剧', 'title': '最近有什么好看的韩剧', 'label': 1}\n",
      "{'query': '《校花的贴身高手》中的林逸', 'title': '校花贴身高手', 'label': 1}\n",
      "{'query': '叔叔是什么人', 'title': '我是叔叔的什么人', 'label': 1}\n",
      "{'query': '这姑娘漂亮不', 'title': '我姑娘漂亮吧', 'label': 1}\n",
      "{'query': '在淘宝网买手机可靠吗？', 'title': '在淘宝网上买手机可靠吗？', 'label': 1}\n",
      "{'query': '山楂干怎么吃好吃？', 'title': '山楂怎么做好吃', 'label': 1}\n",
      "{'query': '时间都去哪怕了歌谱', 'title': '时间煮雨歌谱', 'label': 0}\n",
      "{'query': '苏州哪里能买到这个衣服', 'title': '苏州哪里有买大号衣服的？', 'label': 1}\n",
      "{'query': '最好玩的手机网游', 'title': '好玩的手机网游', 'label': 1}\n",
      "{'query': '石榴是什么时候成熟的？', 'title': '成熟的石榴像什么？', 'label': 1}\n",
      "{'query': '刘诗诗杨幂谁漂亮', 'title': '刘诗诗和杨幂谁漂亮', 'label': 1}\n",
      "{'query': '微信号怎么二次修改', 'title': '怎么再二次修改微信号', 'label': 0}\n",
      "{'query': '什么牌子的精油皂好', 'title': '什么牌子的精油好？', 'label': 1}\n",
      "{'query': '刚出生的小野鸡怎么养', 'title': '刚抓来的野鸡怎么养殖', 'label': 1}\n",
      "{'query': '如何入侵他人手机', 'title': '如何入侵别人的手机', 'label': 0}\n",
      "{'query': '红米刷什么系统好', 'title': '红米可以刷什么系统', 'label': 1}\n",
      "{'query': '这叫什么高跟鞋', 'title': '这种高跟鞋叫什么呀', 'label': 1}\n",
      "{'query': '汇理财怎么样', 'title': '怎么样去理财？', 'label': 0}\n",
      "{'query': '什么是刷屏', 'title': '什么叫刷屏？', 'label': 1}\n",
      "{'query': '各国货币符号是什么?', 'title': '如何用电脑打出各国货币符号呀', 'label': 1}\n",
      "{'query': '上嘴唇有痣代表什么', 'title': '咬嘴唇代表什么', 'label': 1}\n",
      "{'query': '哪种减肥药最快最有效', 'title': '哪种减肥药最有效，减肥效果最好', 'label': 1}\n",
      "{'query': '邓紫棋唱功怎么样', 'title': '邓紫棋唱功怎么样？', 'label': 1}\n",
      "{'query': '怎么做视频', 'title': '贴吧怎么贴视频', 'label': 1}\n",
      "{'query': '现在女生流行什么发型？', 'title': '女生现在流行什么发型？', 'label': 1}\n",
      "{'query': '为什么坐车玩手机会晕车', 'title': '为什么我坐车玩手机不晕车', 'label': 1}\n",
      "{'query': '为什么老婆不喜欢和我做爱', 'title': '我老婆为什么不喜欢做爱', 'label': 1}\n",
      "{'query': '怎么测试我爱的他爱不爱我。', 'title': '怎么测试老公爱不爱我啊', 'label': 1}\n",
      "{'query': '小黑狗叫什么名字好', 'title': '小黑狗取什么名字。母的}', 'label': 1}\n",
      "{'query': '如何刷弹弹堂点卷', 'title': '弹弹堂如何刷点卷?', 'label': 1}\n",
      "{'query': '我国的基本国情是什么？', 'title': '我国的基本国情有哪些？', 'label': 1}\n",
      "{'query': '这个美女叫什么名字？', 'title': '这个美女的是谁，叫什么名字呀？', 'label': 1}\n",
      "{'query': '怎么成为网络红人', 'title': '怎么样可以成为网络红人', 'label': 1}\n",
      "{'query': '嚼口香糖能减肥吗', 'title': '嚼口香糖会减肥吗？', 'label': 1}\n",
      "{'query': '孕妇能用护肤品吗', 'title': '哪些护肤品孕妇能用？', 'label': 1}\n",
      "{'query': '有没有孔什么让梨的成语', 'title': '有没有什么天什么浪的成语', 'label': 1}\n",
      "{'query': '鱼竿上有个缘字是什么牌子的', 'title': '前打鱼竿什么牌子的好', 'label': 1}\n",
      "{'query': '章子怡和林志玲谁漂亮', 'title': '林志玲与章孑怡谁知名度高谁更受人喜欢', 'label': 1}\n",
      "{'query': '上班族，做什么兼职好呢？', 'title': '上班族兼职做什么好？', 'label': 1}\n",
      "{'query': '找一本日本漫画', 'title': '找一本日本的式神捉鬼漫画', 'label': 1}\n",
      "{'query': '没人理我', 'title': '为什么没人理我', 'label': 1}\n",
      "{'query': '怎么让自己的腿变细呢', 'title': '怎样让自己的腿变瘦变细', 'label': 1}\n",
      "{'query': '洛克王国东哥辅助为什么会这样？', 'title': '洛克王国东哥辅助为什么这样？', 'label': 1}\n",
      "{'query': '法国人会说英语吗？', 'title': '法国人英语好吗', 'label': 1}\n",
      "{'query': '这个女模特叫什么呢？', 'title': '这个女模特叫啥', 'label': 1}\n",
      "{'query': '为什么头发掉得很厉害', 'title': '我头发为什么掉得厉害', 'label': 1}\n",
      "{'query': '死猪怎么处理', 'title': '狗掉毛怎么处理', 'label': 1}\n",
      "{'query': '跑跑卡丁车好玩么', 'title': '跑跑卡丁车好玩吗', 'label': 1}\n",
      "{'query': '怎么调理湿热体质？', 'title': '湿热体质怎样调理啊', 'label': 1}\n",
      "{'query': '搞笑电影美国', 'title': '搞笑的美国电影', 'label': 0}\n",
      "{'query': '怀孕八个月同房对胎儿有什么影响', 'title': '怀孕8个月动怒对胎儿有什么影响', 'label': 1}\n",
      "{'query': '京东网买手机可靠吗', 'title': '在京东买手机可靠吗？', 'label': 1}\n",
      "{'query': '谁能帮我们想个网名？', 'title': '谁能帮我想个网名？', 'label': 1}\n",
      "{'query': '桂林山水在哪个省', 'title': '桂林山水在哪个市', 'label': 1}\n",
      "{'query': '怎样证明我们都还活着，', 'title': '怎样能证明自己还活着，毫无存在感。', 'label': 1}\n",
      "{'query': '什么材料的鞋底耐磨', 'title': '什么材料的鞋底最耐磨', 'label': 0}\n",
      "{'query': '求蔡骏《人间》下的完整版', 'title': '求蔡骏人间的完整版', 'label': 1}\n",
      "{'query': '给自己女朋友空间留言咋留', 'title': '给女朋友空间留言怎么留', 'label': 1}\n",
      "{'query': '结婚送什么礼物最好品', 'title': '结婚送什么礼物最好？', 'label': 1}\n",
      "{'query': '神兵小将的主题曲叫什么', 'title': '《神兵小将》的主题曲是什么？', 'label': 1}\n",
      "{'query': '半路父子中陈浩然是怎么死的', 'title': '半路父子陈浩然是怎么死的', 'label': 1}\n",
      "{'query': '为什么我爱吴亦凡但又爱鹿晗', 'title': '为什么吴亦凡和鹿晗这么帅', 'label': 1}\n",
      "{'query': '去哪里买车便宜', 'title': '哪里买车便宜点', 'label': 1}\n",
      "{'query': '老婆的妈妈的哥哥叫什么', 'title': '我哥哥的老婆的妈妈我该喊什么？', 'label': 1}\n",
      "{'query': '武媚娘传奇结局是什么啊', 'title': '武媚娘传奇结局是什么呢？', 'label': 1}\n",
      "{'query': '吃火龙果有什么好处吗？', 'title': '吃火龙果有什么好处？', 'label': 1}\n",
      "{'query': '苏宁电器这只股票怎么样！', 'title': '苏宁电器的股票怎么样', 'label': 1}\n",
      "{'query': '菜炒黑了怎么办求大神帮助', 'title': '搓你妹怎么搓？求大神帮助', 'label': 1}\n",
      "{'query': '请问这是什么牌子的鞋子什么型号', 'title': '请问这是什么牌子的鞋子？是什么型号？', 'label': 0}\n",
      "{'query': '奥比岛红宝石号', 'title': '奥比岛红宝石会所在哪', 'label': 0}\n",
      "{'query': '你是如何看待婚姻的？', 'title': '你是如何看待婚姻？', 'label': 1}\n",
      "{'query': '虚伪的反义词是什么？', 'title': '虚伪的反义词是什么，？', 'label': 0}\n",
      "{'query': '找张学友的一首歌', 'title': '求张学友的一首歌', 'label': 0}\n",
      "{'query': '求《女监男警》的全本！', 'title': '求《王元姬无惨》全本', 'label': 0}\n",
      "{'query': '世事难料是什么生肖', 'title': '世事难料属什么生肖', 'label': 0}\n",
      "{'query': '汽车坐垫哪些品牌好', 'title': '汽车坐垫品牌', 'label': 1}\n",
      "{'query': '记忆枕头哪个牌子好', 'title': '哪个牌子的记忆棉枕头好啊', 'label': 1}\n",
      "{'query': '鹤发童颜什么生肖', 'title': '鹤发童颜指的是什么生肖？', 'label': 1}\n",
      "{'query': '孕妇专用化妆品品牌有哪些', 'title': '孕妇专用化妆品有哪些', 'label': 0}\n",
      "{'query': '清远县属于那里', 'title': '清远属于哪里', 'label': 1}\n",
      "{'query': '魔兽世界铁矿哪里多?', 'title': '魔兽世界-魔铁矿石哪里多', 'label': 1}\n",
      "{'query': '残疾人能否考驾照', 'title': '残疾人考驾照', 'label': 1}\n",
      "{'query': '动物园好玩么', 'title': '这个时候去动物园好玩吗', 'label': 0}\n",
      "{'query': '梦见别人流血', 'title': '梦见自己的手流血', 'label': 1}\n",
      "{'query': '贫血吃什么好', 'title': '贫血要吃什么', 'label': 0}\n",
      "{'query': '这个是什么牌子的吉他啊', 'title': '曾轶可的吉他是什么牌子的？', 'label': 0}\n",
      "{'query': '黄豆芽怎么做才好吃？', 'title': '黄豆芽怎么做好吃？', 'label': 1}\n",
      "{'query': '微博话题怎么取消赞', 'title': '怎么取消微博话题的赞', 'label': 1}\n",
      "{'query': '刘亦菲的老公是谁？', 'title': '刘亦菲、的老公是谁？', 'label': 1}\n",
      "{'query': '怎么找回小米帐号密码？', 'title': '小米帐号密码如何找回？', 'label': 1}\n",
      "{'query': '长方形对角线怎么求', 'title': '长方形的对角线怎么求', 'label': 1}\n",
      "{'query': '我的邮箱名字是什么', 'title': '邮箱名字起什么好？', 'label': 1}\n",
      "{'query': '在网上去哪个网站买书比较好', 'title': '网上买书在哪个网站买比较好', 'label': 1}\n",
      "{'query': '奥特曼你最喜欢那个', 'title': '你最喜欢哪个奥特曼？', 'label': 0}\n",
      "{'query': '李敏镐和金秀贤谁帅', 'title': '李敏镐跟金秀贤谁红', 'label': 1}\n",
      "{'query': '红色搭配什么颜色好看', 'title': '什么颜色和什么颜色配起来是红色', 'label': 1}\n",
      "{'query': '这张图片是哪个动漫', 'title': '求这张图片的动漫名！', 'label': 1}\n",
      "{'query': '求最好玩的角色扮演游戏', 'title': '求好玩的角色扮演游戏', 'label': 1}\n",
      "{'query': '肆虐是什么意思？', 'title': '肆虐的肆是什么意思', 'label': 1}\n",
      "{'query': '小兔子怎么折', 'title': '如何画小兔子', 'label': 0}\n",
      "{'query': '上面一个鹿底下一个章。', 'title': '上面一个厶底下一个儿', 'label': 0}\n",
      "{'query': '过年了卖点什么好？', 'title': '要过年了卖点什么好', 'label': 1}\n",
      "{'query': '大象的鼻子为什么很长', 'title': '大象的鼻子为什么那么长', 'label': 0}\n",
      "{'query': '怎么加亲情好号', 'title': '亲情卡怎么写', 'label': 1}\n",
      "{'query': '什么是凹阳台？', 'title': '封阳台用什么胶', 'label': 1}\n",
      "{'query': '拉倒是什么意思了', 'title': '你拉倒吧什么意思', 'label': 1}\n",
      "{'query': '部落冲突这两天怎么老是闪退啊！', 'title': '部落冲突闪退怎么解决', 'label': 1}\n",
      "{'query': '元宝蟹怎么做', 'title': '叠元宝怎么叠', 'label': 1}\n",
      "{'query': '怎么样让手指变得又细又长', 'title': '怎么让手指变得又细又长', 'label': 1}\n",
      "{'query': '哪里有每日提前免费推荐涨停股票的？', 'title': '免费股票软件哪个好，在哪里可以找到！', 'label': 1}\n",
      "{'query': '什么礼物男孩子会喜欢', 'title': '男孩子最喜欢的礼物是什么？', 'label': 1}\n",
      "{'query': '情商高的表现是什么！', 'title': '情商高的表现是什么啊', 'label': 1}\n",
      "{'query': '男人吃什么水果补肾？', 'title': '男人补肾强精吃什么食物', 'label': 1}\n",
      "{'query': '周润发电影全集发我', 'title': '周润发电影全集', 'label': 1}\n",
      "{'query': '为什么我总是和男朋友吵架最近', 'title': '为什么跟男朋友吵架后先妥协的总是我', 'label': 1}\n",
      "{'query': '最近过的怎么样？', 'title': '你们最近过的怎么样？', 'label': 0}\n",
      "{'query': '怎么网上购物？', 'title': '网上购物怎样才算拍下', 'label': 1}\n",
      "{'query': '全民枪战怎么开挂', 'title': '全民枪战，怎么开挂？', 'label': 1}\n",
      "{'query': '充电宝的灯怎么关', 'title': '充电宝怎么用', 'label': 1}\n",
      "{'query': '黄江哪里的话，有进口车买？', 'title': '说说，黄江进口车去哪里买？', 'label': 1}\n",
      "{'query': '久别重逢什么意思', 'title': '久别重逢的逢是什么意思？', 'label': 1}\n",
      "{'query': '请问这图片上的花叫什么名字', 'title': '请问这一系列图片叫什么名字', 'label': 1}\n",
      "{'query': '老鼠不喜欢什么？', 'title': '白老鼠喜欢吃什么的', 'label': 1}\n",
      "{'query': '中国人谁最美？', 'title': '谁最美，是中国人吧，定', 'label': 1}\n",
      "{'query': '苹果手机要关机充电吗', 'title': '苹果手机充电时不关机可以吗', 'label': 0}\n",
      "{'query': '现在有什么新电影', 'title': '现在都有什么电影看？', 'label': 1}\n",
      "{'query': '什么牌子的美缝剂好呢', 'title': '瓷片美缝剂什么牌子好', 'label': 1}\n",
      "{'query': '红色鞋子配什么裤子好看？男', 'title': '枚红色的鞋子配什么裤子好看', 'label': 1}\n",
      "{'query': '魔兽世界将军令丢了', 'title': '魔兽世界将军令坏了', 'label': 1}\n",
      "{'query': '这个女主播叫什么名字', 'title': '这个女主播叫什么名字？', 'label': 1}\n",
      "{'query': '月经期可以喝茶吗', 'title': '月经期能喝茶吗', 'label': 0}\n",
      "{'query': '今年过年的时候会冷吗', 'title': '今年过年会很冷吗', 'label': 1}\n",
      "{'query': '本图字体是什么', 'title': '图中是什么字体', 'label': 1}\n",
      "{'query': '所有手机都可以连接小米盒子么？', 'title': '其他手机能连接小米盒子吗', 'label': 1}\n",
      "{'query': '画白雪公主怎么画', 'title': '白雪公主怎么画', 'label': 1}\n",
      "{'query': '明明动了情，为何却不靠近', 'title': '为何明明动了情却不又靠近', 'label': 0}\n",
      "{'query': '我爱你日语怎么说', 'title': '我爱你用日语怎么说？', 'label': 1}\n",
      "{'query': '为什么我的电脑不能打开浏览器', 'title': '为什么我下的浏览器不能打开多个窗口', 'label': 1}\n",
      "{'query': '痛风有什么好的药呀', 'title': '痛风看什么科', 'label': 1}\n",
      "{'query': '电脑能连电视吗', 'title': '电脑上可以用电视派吗', 'label': 1}\n",
      "{'query': '七上八下是什么生肖？', 'title': '七上八下各自走是什么生肖', 'label': 1}\n",
      "{'query': '怎么做一个精致优雅从容的女人', 'title': '优雅精致的女人怎么说', 'label': 0}\n",
      "{'query': '什么面膜最好用？', 'title': '什么时候贴面膜最好！？', 'label': 0}\n",
      "{'query': '踏步机什么牌子的好', 'title': '什么牌子的踏步机好？', 'label': 1}\n",
      "{'query': '天天酷跑怎样金币换钻石', 'title': '天天酷跑要怎么刷金币和钻石？', 'label': 0}\n",
      "{'query': '法院会拍卖我的房子吗', 'title': '法院要拍卖我的房子', 'label': 1}\n",
      "{'query': '有关成长的成语', 'title': '()()成长成语', 'label': 1}\n",
      "{'query': '华为手机自己怎么刷机？', 'title': '华为手机怎么刷机啊，', 'label': 1}\n",
      "{'query': '我要做淘宝分销怎么操作', 'title': '淘宝分销怎么可以做的更多销量', 'label': 0}\n",
      "{'query': '吃煮的香蕉有什么好处', 'title': '吃蒸香蕉有什么好处', 'label': 1}\n",
      "{'query': '这样的鞋怎么穿鞋带', 'title': '怎么串这个鞋带', 'label': 1}\n",
      "{'query': '谁能帮我写一篇两分钟的英语演讲稿.', 'title': '有没有朋友能帮我写一篇英语演讲稿', 'label': 1}\n",
      "{'query': '黑铁矿哪里多', 'title': '剑三铁矿哪里多', 'label': 1}\n",
      "{'query': '同花顺模拟炒股软件怎么玩？', 'title': '同花顺模拟炒股怎么玩啊', 'label': 0}\n",
      "{'query': '请看一下这个题。', 'title': '给我看一下，', 'label': 1}\n",
      "{'query': '菠萝吃多为什么会舌头上火流血', 'title': '为什么吃完菠萝嘴和舌头会疼呢', 'label': 1}\n",
      "{'query': '夕阳天什么意思', 'title': '蹲看夕阳是什么意思', 'label': 1}\n",
      "{'query': '为啥我在超市买了个超人变身器变不了身', 'title': '为什么我不能变身超人啊', 'label': 1}\n",
      "{'query': '新的银行卡怎样激活', 'title': '如何激活网银行卡', 'label': 1}\n",
      "{'query': '怎么下载国外网站上的视频.', 'title': '国外网站上的视频怎么下载', 'label': 1}\n",
      "{'query': '什么牌子的碗比较好', 'title': '什么牌子的遮瑕笔比较好？', 'label': 1}\n",
      "{'query': '社宝网怎么样', 'title': '尊宝网怎么样？', 'label': 1}\n",
      "{'query': '消防工作的方针是什么？', 'title': '小区消防工作的指导方针是什么', 'label': 1}\n",
      "{'query': '如何下载漫画', 'title': '怎样下载漫画', 'label': 0}\n",
      "{'query': '好一点的电影', 'title': '有哪些黄一点电影', 'label': 1}\n",
      "{'query': '如何选择手机', 'title': '怎么选择手机。', 'label': 0}\n",
      "{'query': '在国内如何上国外网站？', 'title': '怎么才能在国内上国外的网站？', 'label': 1}\n",
      "{'query': '有什么好玩的角色扮演网络游戏？', 'title': '什么角色扮演的网络游戏好玩', 'label': 0}\n",
      "{'query': '那一刻我长大了', 'title': '那一刻我长大了怎么写', 'label': 1}\n",
      "{'query': '什么牌子的避孕套好啊，', 'title': '什么牌子的避孕套好', 'label': 1}\n",
      "{'query': '带面具的这是什么电影', 'title': '这个鬼面具的电影叫什么', 'label': 1}\n",
      "{'query': '关于学籍问题', 'title': '挂学籍的问题', 'label': 1}\n",
      "{'query': '《东革阿里原片怎么吃？》', 'title': '《东革阿里原片怎么样？》', 'label': 1}\n",
      "{'query': '男生动漫头像', 'title': '萌男生动漫头像', 'label': 1}\n",
      "{'query': '深蹲的坏处是什么？', 'title': '用醋泡脚有什么坏处', 'label': 1}\n",
      "{'query': '这个动态图女的是谁', 'title': '求这个动态图吧', 'label': 1}\n",
      "{'query': '女宝宝取名大全', 'title': '宝宝取名大全', 'label': 1}\n",
      "{'query': '钟保罗是谁', 'title': '保罗是谁', 'label': 1}\n",
      "{'query': '我和女朋友的问题', 'title': '关于女朋友的问题', 'label': 1}\n",
      "{'query': '废烟花筒可以做什么', 'title': '什么牌的烟花好', 'label': 0}\n",
      "{'query': '什么日子？', 'title': '日子是什么', 'label': 0}\n",
      "{'query': '在手机上怎么下载支付宝', 'title': '支付宝老版本怎么下载', 'label': 1}\n",
      "{'query': '淘宝上买手机靠谱吗', 'title': '在淘宝上买手机好吗', 'label': 1}\n",
      "{'query': '什么书买不到', 'title': '什么书买不到？', 'label': 1}\n",
      "{'query': '单反相机最好用的是哪个品牌', 'title': '中高端单反相机哪个品牌的型号最好', 'label': 1}\n",
      "{'query': '怎样定位别人的手机号', 'title': '怎样怎样定位别人的手机号怎样定位别人手机号', 'label': 1}\n",
      "{'query': '穿越火线怎么练狙？', 'title': '穿越火线怎么玩？', 'label': 1}\n",
      "{'query': '关于红鲤的诗句', 'title': '有关爱的诗句', 'label': 1}\n",
      "{'query': '猴子最喜欢吃什么', 'title': '猴子喜欢什么', 'label': 1}\n",
      "{'query': '。我的世界里咋地挖东西', 'title': '我的世界如何刷东西', 'label': 1}\n",
      "{'query': '怎么玩游戏下载', 'title': '快玩游戏怎么下载？', 'label': 1}\n",
      "{'query': '时间去哪了吉他谱', 'title': '时间都去哪啦吉他谱', 'label': 1}\n",
      "{'query': '人肉包子好吃吗', 'title': '鸭肉包子好吃么？', 'label': 1}\n",
      "{'query': '百度，李毅吧，是做什么的？', 'title': '百度李毅吧是什么？', 'label': 1}\n",
      "{'query': '你们谁是邓紫棋的粉丝', 'title': '邓紫棋和茜拉谁粉丝多', 'label': 1}\n",
      "{'query': '求一部小时候的电视剧。', 'title': '求小时候看的一部电视剧', 'label': 1}\n",
      "{'query': '梦见别人偷自己东西', 'title': '梦见别人和我抢东西', 'label': 1}\n",
      "{'query': '绿钻怎么升级', 'title': '怎么在贴吧里升级', 'label': 1}\n",
      "{'query': '唱吧用什么麦克风', 'title': '麦克风是什么', 'label': 1}\n",
      "{'query': '不懂歌手是谁', 'title': '这个歌手是谁啊', 'label': 0}\n",
      "{'query': '谁会玩傲世西游', 'title': '有谁玩傲世西游？', 'label': 0}\n",
      "{'query': '天空之城合唱谱', 'title': '《天空之城》合唱', 'label': 0}\n",
      "{'query': '台式电脑的开机线怎么接', 'title': '电脑主机开机线怎么插图片', 'label': 0}\n",
      "{'query': '世界杯有中国队吗？', 'title': '这次世界杯有中国队吗？', 'label': 1}\n",
      "{'query': '怎么可以下载百度影音', 'title': '百度影音中咋下载', 'label': 1}\n",
      "{'query': '什么老虎没动物怕？', 'title': '老虎是什么动物', 'label': 1}\n",
      "{'query': '铁观音的购买方法', 'title': '购买铁观音的好方法', 'label': 1}\n",
      "{'query': '有美女聊天吗？', 'title': '怎么找美女聊天', 'label': 0}\n",
      "{'query': '有没有可以在家里做的工作', 'title': '有没有可以在家里做的工作啊', 'label': 1}\n",
      "{'query': '这韩国人叫什么名字', 'title': '她是韩国的吗叫什么名字', 'label': 1}\n",
      "{'query': '《今天的运气怎么这么好》', 'title': '我今天运气怎么这么差…', 'label': 1}\n",
      "{'query': '破壁料理机什么牌子的比较好', 'title': '五谷水果破壁料理机买什么牌子好', 'label': 1}\n",
      "{'query': '请问这是哪两种字体？', 'title': '请问这两种是什么字体', 'label': 0}\n",
      "{'query': '你妈贵姓', 'title': '你吗贵姓', 'label': 1}\n",
      "{'query': '人是怎样形成的？', 'title': '靠比是怎样形成的', 'label': 1}\n",
      "{'query': '请问这种植物叫什么名？', 'title': '请问这种植物叫什么', 'label': 0}\n",
      "{'query': '淘宝怎么做充值话费', 'title': '如何在淘宝开话费充值店', 'label': 0}\n",
      "{'query': '如何炒茄子不变色？', 'title': '如何茄子皮不变色', 'label': 0}\n",
      "{'query': '搞笑的电影给推荐几部', 'title': '推荐几部搞笑的电影…', 'label': 1}\n",
      "{'query': '世界名车最好的是什么？', 'title': '世界名车的名字有什么。', 'label': 1}\n",
      "{'query': '相挽什么意思', 'title': '遮挽是什么意思？', 'label': 1}\n",
      "{'query': '为什么女人喜欢舔她的下面', 'title': '女人喜欢男人怎么舔她下面，知道的请多指教', 'label': 1}\n",
      "{'query': '立秋吃什么呢？', 'title': '立秋吃什么肉好', 'label': 1}\n",
      "{'query': '用什么比喻呀？', 'title': '打比喻什么像什么', 'label': 1}\n",
      "{'query': '如何在网页上下载音频', 'title': '怎么下载这个网页上的音频？', 'label': 1}\n",
      "{'query': '孕妇可以喝一些什么茶叶？', 'title': '孕妇可以喝茶叶吗？', 'label': 1}\n",
      "{'query': '姓氏图片文字我姓余', 'title': '姓氏图片文字我姓岳', 'label': 0}\n",
      "{'query': '男人和女人最大的区别是什么？', 'title': '男人跟女人的最大区别是什么？', 'label': 0}\n",
      "{'query': '谁能告诉我这种图片怎么做！', 'title': '谁能告诉我，怎么做这种图片，要过程', 'label': 1}\n",
      "{'query': '蓝色配什么颜色最搭', 'title': '白蓝色是什么颜色？', 'label': 1}\n",
      "{'query': '石家庄哪个旅行社好一些呢？', 'title': '石家庄旅行社哪个好', 'label': 1}\n",
      "{'query': '脸小适合什么发型', 'title': '脸小的适合什么发型啊', 'label': 1}\n",
      "{'query': '梦见自己丢手机', 'title': '梦见我的手机碎了，', 'label': 1}\n",
      "{'query': '初中语文给带点的词语解释。', 'title': '初中语文给带点词语解释', 'label': 0}\n",
      "{'query': '它的中文名字是什么？', 'title': '这是药中文叫什么名字？', 'label': 0}\n",
      "{'query': '怎样去黑头粉刺', 'title': '粉刺针怎么去黑头', 'label': 1}\n",
      "{'query': '女生青春期都会什么样？', 'title': '青春期女生应该穿什么样的内衣', 'label': 1}\n",
      "{'query': '瞎子背瞎子打一谚语', 'title': '瞎子背瞎子(打一谚语)', 'label': 1}\n",
      "{'query': '请问这个日语是什么意思？', 'title': '请问日语(啊嘛喋)是什么意思？', 'label': 1}\n",
      "{'query': '我应该用什么面膜比较好', 'title': '现在用什么面膜比较好', 'label': 0}\n",
      "{'query': '一动不动写词语', 'title': '关于一动不动的词语有那些', 'label': 1}\n",
      "{'query': '正确答案用英语怎么说', 'title': '起风用英语怎么说。一有正确答案就赞', 'label': 1}\n",
      "{'query': '动画片和熊猫有关的', 'title': '有关于熊猫的动画片', 'label': 0}\n",
      "{'query': '天天酷跑如何抽冰封狼王', 'title': '天天酷跑如何领冰封狼王', 'label': 1}\n",
      "{'query': '硝酸铜是什么颜色的？', 'title': '硝酸铜是什么颜色', 'label': 1}\n",
      "{'query': '男人为什么都喜欢吃奶', 'title': '男人为什么那么喜欢吃奶', 'label': 1}\n",
      "{'query': '火影忍者佐助搞小樱', 'title': '火影忍者佐助和小樱', 'label': 0}\n",
      "{'query': '赛尔号的达尔在哪', 'title': '赛尔号抓达尔', 'label': 1}\n",
      "{'query': '北京人怎么样', 'title': '去北京怎么走', 'label': 0}\n",
      "{'query': '姓李的女孩叫什么名字好听', 'title': '女孩子取什么名字比较好听', 'label': 1}\n",
      "{'query': '李宇春怎么样？', 'title': '李宇春是怎么死的', 'label': 0}\n",
      "{'query': '感冒还能喝啤酒吗？', 'title': '感冒了可以喝啤酒吗？', 'label': 1}\n",
      "{'query': '鹤立鸡群的立是什么意思', 'title': '鹤立鸡群的鹤是什么意思', 'label': 1}\n",
      "{'query': '知道了韩语怎么写', 'title': '韩语不知道咋说', 'label': 1}\n",
      "{'query': '支付宝钱包里的余额宝有什么作用', 'title': '支付宝和支付宝钱包有什么区别', 'label': 1}\n",
      "{'query': '猜成语是什么成语', 'title': '成语什么火什么天成语', 'label': 1}\n",
      "{'query': '红毛丹怎么洗', 'title': '红毛丹怎么去膜吃', 'label': 1}\n",
      "{'query': '求闪金镇那一夜全部', 'title': '求闪金镇那一夜。', 'label': 1}\n",
      "{'query': '请问这是什么动漫？', 'title': '请问这是什么动漫呀', 'label': 1}\n",
      "{'query': '亦的五行属性是什么', 'title': '昊在五行里的属性是什么', 'label': 0}\n",
      "{'query': '你喜欢哪个节日', 'title': '我喜欢的节日', 'label': 1}\n",
      "{'query': '什么牌子的手表好', 'title': '什么牌子的女手表好', 'label': 1}\n",
      "{'query': '哟西哟西是什么意思？', 'title': '哟西哟西是什么意思`,', 'label': 1}\n",
      "{'query': '电炒锅什么牌子好', 'title': '什么牌子的电炒锅好', 'label': 1}\n",
      "{'query': '今天什么电影', 'title': '今天有什么电影啊', 'label': 1}\n",
      "{'query': '什么样的净水器又便宜又好用', 'title': '什么样的净水器净水效果好', 'label': 0}\n",
      "{'query': '花蚬子学名是什么？', 'title': '猪的学名是什么、', 'label': 0}\n",
      "{'query': '谁有好看的网络小说？推荐几本可以吗？', 'title': '谁给推荐几本好看的网络小说', 'label': 1}\n",
      "{'query': '梦一场萧敬腾伴奏', 'title': '萧敬腾梦一场伴奏', 'label': 1}\n",
      "{'query': '如何做干墨鱼', 'title': '墨鱼丸怎么吃', 'label': 1}\n",
      "{'query': '求一本玄幻小说名', 'title': '找一本玄幻的小说！', 'label': 1}\n",
      "{'query': '防晒霜要怎么擦', 'title': '防晒霜怎么样', 'label': 1}\n",
      "{'query': '干女人有什么好处', 'title': '女人吃藕有什么好处', 'label': 1}\n",
      "{'query': '谁有天天飞车的辅助', 'title': '谁有天天飞车的辅助啊？', 'label': 1}\n",
      "{'query': '这个魔方叫什么啊', 'title': '这个是什么魔方', 'label': 1}\n",
      "{'query': '冬天去北京可以玩什么', 'title': '北京冬天穿什么', 'label': 1}\n",
      "{'query': '卡通兔子图片', 'title': '关于卡通兔子的图片', 'label': 1}\n",
      "{'query': '什么让我快乐作文', 'title': '作文：我忙，但很快乐', 'label': 0}\n",
      "{'query': '最轻的气体是什么？', 'title': '什么气体最轻？', 'label': 1}\n",
      "{'query': '什么食物是负热量的？', 'title': '什么食物热量高', 'label': 0}\n",
      "{'query': '帅哥，美女。', 'title': '帅哥，美女快。', 'label': 1}\n",
      "{'query': '现在网上做什么赚钱啊？', 'title': '现在网上卖什么最赚钱', 'label': 1}\n",
      "{'query': '红龙女王和闪金镇的那一夜', 'title': '求红龙女王跟闪金镇的那一夜', 'label': 0}\n",
      "{'query': '属鸡的和属猴的结婚了好吗', 'title': '属羊和属鸡的可以结婚吗？', 'label': 1}\n",
      "{'query': '这韩剧是叫什么', 'title': '韩剧有什么？', 'label': 0}\n",
      "{'query': '情人能做一辈子吗', 'title': '情人能做一辈子吗？', 'label': 1}\n",
      "{'query': '有谁知道是什么动画片', 'title': '动画片圣斗士星矢中谁最厉害', 'label': 1}\n",
      "{'query': '如何下载百度文库的资料', 'title': '如何下载百度文库资料', 'label': 0}\n",
      "{'query': '怎样才能得高分', 'title': '怎样才能考高分啊', 'label': 1}\n",
      "{'query': '哪部动漫人物', 'title': '这个人物是哪部动漫的', 'label': 1}\n",
      "{'query': '怎样看到好友微信的朋友圈', 'title': '怎么看到微信好友的朋友圈', 'label': 1}\n",
      "{'query': '梦见自己被枪打死', 'title': '梦见自己家的狗被别人打死了', 'label': 1}\n",
      "{'query': '何处能买到巴宝莉原单男装？', 'title': '哪儿能买到巴宝莉原单男装？', 'label': 0}\n",
      "{'query': '思念是什么感觉', 'title': '思念是什么感觉？', 'label': 0}\n",
      "{'query': '香水是什么做的', 'title': '什么牌香水好', 'label': 1}\n",
      "{'query': '去日本买什么东西好', 'title': '日本人是什么东西啊？', 'label': 1}\n",
      "{'query': '你好！韩文怎么写', 'title': '只对你好用韩文怎么说', 'label': 1}\n",
      "{'query': '小米充电宝怎么拆', 'title': '小米充电宝怎么关', 'label': 1}\n",
      "{'query': '怎样画扇形统计图', 'title': '扇形统计图怎么画？', 'label': 0}\n",
      "{'query': '小数是自然数么？', 'title': '小数算自然数吗？', 'label': 1}\n",
      "{'query': '双子座与水瓶座配吗？', 'title': '双子座男与水瓶座女配吗？', 'label': 1}\n",
      "{'query': '手机游戏天龙八部3d好玩吗,和电脑上的有什么不同', 'title': '天龙八部手机版什么门派厉害', 'label': 1}\n",
      "{'query': '假刘海要怎么戴', 'title': '该怎么留刘海？', 'label': 1}\n",
      "{'query': '美食的好节目', 'title': '有哪些美食节目', 'label': 1}\n",
      "{'query': '现在中国那个城市人口最多?', 'title': '中国现在那个城市的人口最多', 'label': 0}\n",
      "{'query': '虑和替能加什么偏旁？', 'title': '寺能加什么偏旁', 'label': 1}\n",
      "{'query': '哪个牌子的微型小货车好', 'title': '微型小货车汽油发动机哪个牌子好', 'label': 1}\n",
      "{'query': '有哪个网站可以免费下载小说', 'title': '有没有哪个网站能免费阅读VIP小说', 'label': 1}\n",
      "{'query': '安以轩，漂亮吗', 'title': '安以轩漂亮么', 'label': 1}\n",
      "{'query': '邓紫棋和本兮谁的粉丝更多', 'title': '谁是邓紫棋粉丝？', 'label': 1}\n",
      "{'query': '举案齐眉是什么意思', 'title': '举案齐眉是什么意思？', 'label': 1}\n",
      "{'query': '什么歌比较好听', 'title': '什么歌比较好听？', 'label': 1}\n",
      "{'query': '钱包什么牌子好呢', 'title': '这是个什么牌子的钱包', 'label': 1}\n",
      "{'query': '这两个字是什么意思？', 'title': '煜斌两个字是什么意思', 'label': 1}\n",
      "{'query': '在郑州的哪里割双眼皮好', 'title': '郑州做双眼皮那里做得较好啊', 'label': 1}\n",
      "{'query': '谁喜欢看奔跑吧兄弟？', 'title': '奔跑兄弟里都喜欢谁', 'label': 1}\n",
      "{'query': '关于北京庙会', 'title': '北京庙会哪个好', 'label': 1}\n",
      "{'query': '如何加盟顺丰快递', 'title': '顺丰快递怎么加盟', 'label': 0}\n",
      "{'query': '赛尔号鱼龙王怎样打', 'title': '赛尔号鱼龙王怎样搞到', 'label': 1}\n",
      "{'query': '俄罗斯首都在哪里？', 'title': '俄罗斯的首都在哪里？', 'label': 1}\n",
      "{'query': '吃口香糖能减肥么', 'title': '嚼口香糖能减肥吗', 'label': 0}\n",
      "{'query': '衣服的吊牌是什么？在哪？', 'title': '什么是衣服上的吊牌？', 'label': 1}\n",
      "{'query': '郑州哪里有卖婚纱的', 'title': '郑州婚纱哪里好？', 'label': 1}\n",
      "{'query': '怎样对付不爱做作业的孩子', 'title': '孩子淘气不爱学习怎样教育', 'label': 1}\n",
      "{'query': '一个初一几何数学问题', 'title': '数学初一几何题目谢谢', 'label': 0}\n",
      "{'query': '吝啬是什么意思。', 'title': '你的好很吝啬是什么意思', 'label': 1}\n",
      "{'query': '你喜欢的明星有谁？', 'title': '我喜欢谁（明星）', 'label': 1}\n",
      "{'query': '口蹄疫是什么', 'title': '牛口蹄疫用什么药？', 'label': 0}\n",
      "{'query': '王八是什么？', 'title': '什么是王八运', 'label': 1}\n",
      "{'query': '马的甲骨文怎么写', 'title': '勤的甲骨文怎么写', 'label': 1}\n",
      "{'query': '我的世界村民吃什么?', 'title': '葫芦侠我的世界里村民吃什么', 'label': 1}\n",
      "{'query': '这是什么牌子的汽车', 'title': '这是哪个牌子的汽车啊', 'label': 1}\n",
      "{'query': '世界上有怪物忙', 'title': '世界上有怪物', 'label': 1}\n",
      "{'query': '为什么老公喜欢吃奶呀！', 'title': '男人为什么那么喜欢吃奶', 'label': 1}\n",
      "{'query': '为什么我脸上的痣越来越多', 'title': '为什么我身上脸上的越来越多的痣', 'label': 1}\n",
      "{'query': '怎么报复背叛的男友', 'title': '怎样报复背叛了我的男友', 'label': 0}\n",
      "{'query': '怎么把淘宝和支付宝绑定', 'title': '淘宝怎么绑定支付宝', 'label': 1}\n",
      "{'query': '人能改变自己的命运吗？', 'title': '“人怎样才能改变自己的命运”', 'label': 1}\n",
      "{'query': '黄鼠狼与狐狸结亲(打一成语)', 'title': '黄鼠狼和狐狸结亲，打一成语', 'label': 1}\n",
      "{'query': '知道日报去哪里了', 'title': '在哪里看知道日报', 'label': 1}\n",
      "{'query': '属羊本命年结婚好吗', 'title': '本命年，可以结婚吗？', 'label': 1}\n",
      "{'query': '小豆腐是什么意思？', 'title': '吃你豆腐是什么们意思', 'label': 1}\n",
      "{'query': '追女朋友时应该给她唱什么歌', 'title': '去女朋友家应该买什么呢？', 'label': 1}\n",
      "{'query': '首尾呼应指什么生肖', 'title': '首尾呼应指的是什么生肖', 'label': 1}\n",
      "{'query': '我的世界手机版都可以做那些门', 'title': '我的世界手机版怎么玩？', 'label': 1}\n",
      "{'query': '我的这个兰花是什么品种', 'title': '我的兰花是什么品种', 'label': 1}\n",
      "{'query': '黄瓜怎么吃？', 'title': '怎样拌黄瓜干', 'label': 1}\n",
      "{'query': '求小说我的贴身校花', 'title': '求小说(我的贴身校花)', 'label': 1}\n",
      "{'query': '什么牌子的纯羊奶好', 'title': '羊奶皂什么牌子好', 'label': 0}\n",
      "{'query': '情人节送男朋友什么礼物', 'title': '情人节送男朋友什么礼物啊', 'label': 1}\n",
      "{'query': '疯狂猜成语一个气', 'title': '喝的疯狂猜成语一个', 'label': 1}\n",
      "{'query': '高锰酸钾的作用是什么', 'title': '谁可以告诉我高锰酸钾是做什么用途的啊', 'label': 1}\n",
      "{'query': '我姓徐她姓高情侣网名', 'title': '他姓裴。我姓房。情侣网名怎么起', 'label': 0}\n",
      "{'query': '手机看小说下载什么软件好', 'title': '用手机看小说用什么软件', 'label': 1}\n",
      "{'query': '视频中歌曲是什么名字', 'title': '求视频里的歌曲名字叫什么', 'label': 1}\n",
      "{'query': '中国最大的鸟是什么鸟？', 'title': '中国什么岛最大', 'label': 1}\n",
      "{'query': '什么的油漆好呢', 'title': '卖什么油漆好', 'label': 1}\n",
      "{'query': '白云是什么？', 'title': '一什么白云', 'label': 0}\n",
      "{'query': '动物也会做梦吗？', 'title': '动物跟人一样会做梦吗？', 'label': 1}\n",
      "{'query': '柯震东是什么脸型。？。？', 'title': '柯震东是什么脸型', 'label': 1}\n",
      "{'query': '怎么样才能让牙齿洁白、、', 'title': '如何让牙齿洁白', 'label': 1}\n",
      "{'query': '哗(第一声)怎么组词', 'title': '正(第一声)怎么组词', 'label': 0}\n",
      "{'query': '无限极的产品怎么样？', 'title': '无限极的产品怎么都那么贵', 'label': 1}\n",
      "{'query': '哪里能看匆匆那年？', 'title': '匆匆那年在哪里拍的', 'label': 1}\n",
      "{'query': '全民飞机大战有什么好的外挂吗？', 'title': '求全民飞机大战的外挂', 'label': 1}\n",
      "{'query': '头发少的人适合什么发型', 'title': '我的头发最适合什么发型', 'label': 1}\n",
      "{'query': '什么东西近在眼前你却看不到？', 'title': '什么东西近在眼前却自己看不到', 'label': 0}\n",
      "{'query': '冬天吃什么好，补身体', 'title': '冬天可以煮什么粥？对身体好', 'label': 1}\n",
      "{'query': '开网店怎么开？', 'title': '怎样开网店？', 'label': 1}\n",
      "{'query': '什么牌子的电脑包好', 'title': '电脑包什么的牌子好', 'label': 1}\n",
      "{'query': '这是什么牌的摩托车', 'title': '这是什么摩托车！', 'label': 0}\n",
      "{'query': '地壳中含量最多的元素是：', 'title': '地壳中含量最多的元素是', 'label': 1}\n",
      "{'query': '什么叫支付宝账户名', 'title': '什么是支付宝账户？', 'label': 1}\n",
      "{'query': '我得了神经病怎么办', 'title': '我是神经病是什么歌', 'label': 1}\n",
      "{'query': '橄榄油有些什么功效？', 'title': '橄榄油精华有什么作用', 'label': 1}\n",
      "{'query': '谁知道这是什么鸟啊', 'title': '谁知道这是什么', 'label': 1}\n",
      "{'query': '怎么设置中文', 'title': '怎么设置中文？', 'label': 1}\n",
      "{'query': '怎么找回电话号码', 'title': '该怎么找回电话号码！', 'label': 1}\n",
      "{'query': '求蓝男色全部资源', 'title': '求蓝男色资源。', 'label': 1}\n",
      "{'query': '报关单如何查询', 'title': '如何查询报关单号', 'label': 1}\n",
      "{'query': '温州有什么好玩的地方？', 'title': '温州什么地方最好玩', 'label': 0}\n",
      "{'query': '欠你的幸福繁体字怎么写', 'title': '愿你幸福的繁体字怎样写', 'label': 1}\n",
      "{'query': '酷派大神好不好用，', 'title': '酷派大神怎么样，好不好', 'label': 1}\n",
      "{'query': '怎么清洗手机屏幕', 'title': '手机屏幕怎么清洗？', 'label': 1}\n",
      "{'query': '才干的近义词是什么？', 'title': '才干的进近义词是什么？', 'label': 1}\n",
      "{'query': '男生怎么留刘海', 'title': '如何剪刘海是男生的', 'label': 1}\n",
      "{'query': '清华同方的平板电脑怎么样', 'title': '清华同方笔记本电脑怎么样', 'label': 1}\n",
      "{'query': '数据结构都有哪些', 'title': '关于数据结构的题', 'label': 1}\n",
      "{'query': '月字加一笔是什么字', 'title': '旧．这个字加一笔是什么字', 'label': 1}\n",
      "{'query': '张爱玲有哪些经典作品', 'title': '张爱玲有哪些小说比较受欢迎', 'label': 1}\n",
      "{'query': '你们还相信爱情吗？', 'title': '你还相信爱情吗？', 'label': 1}\n",
      "{'query': '性取向要怎么改变', 'title': '如何改变性取向', 'label': 1}\n",
      "{'query': '给设计公司起名', 'title': '帮设计公司起名', 'label': 1}\n",
      "{'query': '孕妇补血吃什么好？', 'title': '孕妇吃什么最补血', 'label': 1}\n",
      "{'query': '青年医生很好看的', 'title': '青年医生好看不', 'label': 1}\n",
      "{'query': '支付宝手机怎么收款', 'title': '如何用手机支付宝收款', 'label': 1}\n",
      "{'query': '男人为什么喜欢吃女人的乳房', 'title': '男人为什么喜欢摸乳房', 'label': 1}\n",
      "{'query': '在电影院里是什么客', 'title': '电影院是什么', 'label': 1}\n",
      "{'query': '小学生家长意见怎样写', 'title': '小学生家长意见怎样写？', 'label': 1}\n",
      "{'query': '我早泄如何治疗', 'title': '早泄要怎么治疗', 'label': 1}\n",
      "{'query': '在唯品会怎么开店', 'title': '唯品会怎么开店', 'label': 1}\n",
      "{'query': '小米手机怎么清理缓存', 'title': '小米手机内存里的其他怎么清理', 'label': 1}\n",
      "{'query': '这样的脸型适合中分吗？', 'title': '她是什么脸型，适合中分吗？', 'label': 1}\n",
      "{'query': '北京哪里好吃？', 'title': '北京的饭哪里最好吃？', 'label': 1}\n",
      "{'query': '雌性激素高的食物有哪些', 'title': '含有雌激素的食物有哪些', 'label': 1}\n",
      "{'query': '有什么科技小制作？', 'title': '科技小制作有什么？', 'label': 1}\n",
      "{'query': '小眼睛有什么成语形容', 'title': '形容眼睛一眨不眨的成语是什么', 'label': 1}\n",
      "{'query': '什么是变形计？', 'title': '变形计什么时候放？', 'label': 0}\n",
      "{'query': '有人知道图片上的人是谁吗。', 'title': '这个图片有人知道吗', 'label': 1}\n",
      "{'query': '谁有《诱爱妩冰》的全文', 'title': '谁有《剩女不淑》全文！', 'label': 1}\n",
      "{'query': '用手机怎么注册谷歌账号？', 'title': '手机如何注册谷歌账号', 'label': 0}\n",
      "{'query': '伤心听什么歌', 'title': '什么事让我最伤心？', 'label': 1}\n",
      "{'query': '有效安全的丰胸产品有哪些?', 'title': '丰胸产品哪些安全有效？', 'label': 1}\n",
      "{'query': '世界上哪个国家的女人最漂亮?', 'title': '世界上最漂亮的女人是哪个国家的', 'label': 1}\n",
      "{'query': '求淘宝店名，有个性的', 'title': '求淘宝个性店名', 'label': 1}\n",
      "{'query': '整容成功率高么？', 'title': '整容成功率高吗？', 'label': 1}\n",
      "{'query': '蓝色衣服藏青色裤子配什么颜色鞋好', 'title': '藏青色裤子搭配什么颜色的鞋子好', 'label': 1}\n",
      "{'query': '今天北京下雨了吗', 'title': '今天北京会下雨吗', 'label': 1}\n",
      "{'query': '雪莲果怎么吃', 'title': '干雪莲怎么吃？', 'label': 1}\n",
      "{'query': '这个是什么播放器？', 'title': '这个是什么播放器', 'label': 1}\n",
      "{'query': '生活中的传统文化有哪些?', 'title': '生活中的传统文化有哪些', 'label': 1}\n",
      "{'query': '女人用什么网名好', 'title': '女人取什么网名好', 'label': 1}\n",
      "{'query': '用手机怎样设置路由器。', 'title': '手机怎么设置路由器', 'label': 1}\n",
      "{'query': '这些韩文是什么意思？', 'title': '韩文中什么意思', 'label': 1}\n",
      "{'query': '网络黑客指的是什么人？', 'title': '网络黑客是什么', 'label': 1}\n",
      "{'query': '情人节应该送女朋友什么礼物好', 'title': '情人节应该给女朋友送什么礼物', 'label': 0}\n",
      "{'query': '怎么拿银行卡开通快捷支付？', 'title': '怎么把银行卡开通快捷支付？', 'label': 1}\n",
      "{'query': '今天是什么日子', 'title': '今天什么日子?', 'label': 1}\n",
      "{'query': '谁能帮我设计个图标', 'title': '谁会设计花的图标', 'label': 1}\n",
      "{'query': '百度如何上传文件', 'title': '在百度贴吧里怎么上传文件？', 'label': 1}\n",
      "{'query': '中心圈是什么？', 'title': '观刈麦的中心句是什么？', 'label': 1}\n",
      "{'query': '就业失业登记证有什么用', 'title': '就业失业登记证有什么用？', 'label': 0}\n",
      "{'query': '什么播放器可以看世界杯直播？', 'title': '用什么播放器看世界杯直播', 'label': 1}\n",
      "{'query': '剑灵捏人。求这个天族女的原数据', 'title': '求这个剑灵天族的捏人数据。', 'label': 0}\n",
      "{'query': '怎么知道对方有没有上微信', 'title': '微信上怎么看别人是否在线', 'label': 1}\n",
      "{'query': '求电影《雷横与朱仝》的下载地址', 'title': '求电影《毒吻》下载地址', 'label': 1}\n",
      "{'query': '只要有你是什么电视剧的主题曲？', 'title': '《你》是哪个电视剧的主题曲？', 'label': 1}\n",
      "{'query': '产妇喝什么下奶好啊', 'title': '产妇喝什么下奶', 'label': 1}\n",
      "{'query': '你在干什么，日语怎么说？', 'title': '“你们在干什么”日语怎么说', 'label': 1}\n",
      "{'query': '溜溜球在哪买', 'title': '溜溜球哪个好', 'label': 1}\n",
      "{'query': '画蛇添足里的其是什么意思', 'title': '画蛇添足的意思是什么？', 'label': 1}\n",
      "{'query': '草绿色搭配什么颜色好看', 'title': '草绿色和什么颜色搭配起最好看', 'label': 1}\n",
      "{'query': '给小孩怎么扎头发的图片', 'title': '儿童头发怎么扎好看图片和步骤', 'label': 1}\n",
      "{'query': '蛤蟆是什么？', 'title': '小蛤蟆吃什么', 'label': 1}\n",
      "{'query': '这是什么水果？有图。', 'title': '这是什么水果。怎么吃？', 'label': 1}\n",
      "{'query': '包皮手术后自己换药可以吗', 'title': '做完包皮手术后可以自己换药吗', 'label': 1}\n",
      "{'query': '过年卖什么挣钱', 'title': '过年卖什么最挣钱', 'label': 0}\n",
      "{'query': '打鸡血是什么意思', 'title': '鸡血是什么意思？', 'label': 1}\n",
      "{'query': '动感地带和全球通哪个好', 'title': '动感地带转全球通', 'label': 1}\n",
      "{'query': '好世界上最凶猛的狗是什么狗', 'title': '世界上什么鱼最凶猛', 'label': 1}\n",
      "{'query': '你在烦恼什么呢，', 'title': '烦恼是什么？', 'label': 1}\n",
      "{'query': '想和女朋友接吻要怎么说', 'title': '怎么和女朋友接吻啊？', 'label': 0}\n",
      "{'query': '你们对一个这样的男人怎么看', 'title': '怎么样才算一个好男人啊？', 'label': 1}\n",
      "{'query': '怎样钩有后跟的鞋子', 'title': '钩鞋子怎样钩图', 'label': 1}\n",
      "{'query': '触手剑是什么', 'title': '什么是触手系？', 'label': 0}\n",
      "{'query': '小灰机是什么？', 'title': '小灰机有什么用啊', 'label': 1}\n",
      "{'query': '怎么去买到电影票？', 'title': '电影票怎么买', 'label': 1}\n",
      "{'query': '大头儿子的爸爸叫什么?', 'title': '大头儿子小头爸爸是什么时候出的', 'label': 1}\n",
      "{'query': '影响的近义词是什么？', 'title': '影响的近义词是什么', 'label': 1}\n",
      "{'query': '我比较适合哪种，面膜~', 'title': '哪种面膜比较适合我?', 'label': 1}\n",
      "{'query': '这个女明星的名字？', 'title': '这个女明星名字叫什么？', 'label': 1}\n",
      "{'query': '我恨你英语怎么读', 'title': '为什么用英语怎么拼？', 'label': 1}\n",
      "{'query': '你的名字叫奇葩吗', 'title': '你的名字为什么取的那么奇葩？', 'label': 1}\n",
      "{'query': '关于前男友的报复，我该怎么做？', 'title': '怎么去报复前男友一家人。', 'label': 1}\n",
      "{'query': '怎么去除不干胶？', 'title': '怎样去除不干胶印', 'label': 1}\n",
      "{'query': '什么东西，长方形的', 'title': '有什么东西是长方形的！', 'label': 1}\n",
      "{'query': '舒查字典查什么部首', 'title': '表的查字典是什么部首', 'label': 0}\n",
      "{'query': '帮我起个好听的网名吧', 'title': '起个网名好听', 'label': 1}\n",
      "{'query': '有没有像问道的手游', 'title': '有没有哪个手游像问道的', 'label': 1}\n",
      "{'query': '摩尔庄园拉姆运动场在哪里', 'title': '摩尔庄园的拉姆运动场在哪里呀？', 'label': 1}\n",
      "{'query': '我的世界手机版有没有鞍', 'title': '我的世界手机版有没有鱼', 'label': 0}\n",
      "{'query': '斯怎么组词？(二个)', 'title': '毁怎么组词？(二个)', 'label': 1}\n",
      "{'query': '男朋友生日送什么？', 'title': '男朋友生日说什么', 'label': 1}\n",
      "{'query': '男生纹什么好看', 'title': '男生跳什么舞好看', 'label': 0}\n",
      "{'query': '如何备份手机通讯录', 'title': '手机通讯录怎么备份？', 'label': 1}\n",
      "{'query': '北海还有传销吗？', 'title': '北海是传销吗？', 'label': 0}\n",
      "{'query': '哒哒鸟的激活码', 'title': '给个激活码！', 'label': 1}\n",
      "{'query': '秋天有什么特点', 'title': '秋天风的特点是什么', 'label': 0}\n",
      "{'query': '淘宝模特叫什么？急', 'title': '淘宝的模特她叫什么', 'label': 1}\n",
      "{'query': '情侣之间送什么礼物啊', 'title': '情侣之间送什么礼物，有意义', 'label': 1}\n",
      "{'query': '谷歌地球怎么打不开了？', 'title': '谷歌地球怎么打不开', 'label': 1}\n",
      "{'query': '长方体的底面积怎么求？', 'title': '长方体的面积怎么做？', 'label': 0}\n",
      "{'query': '大便拉出血什么原因', 'title': '大便出血一般是什么原因', 'label': 1}\n",
      "{'query': '虾的尾巴起什么作用', 'title': '鱼的尾巴有什么作用', 'label': 1}\n",
      "{'query': '绝味鸭脖总部在哪里？', 'title': '绝味鸭脖的总部在哪里', 'label': 1}\n",
      "{'query': '南宁服装批发市场在哪里', 'title': '南宁的服装批发市场在哪里？', 'label': 0}\n",
      "{'query': '这是什么动物？', 'title': '这是什么动物', 'label': 1}\n",
      "{'query': '怎么领取支付宝红包', 'title': '怎样领取支付宝红包', 'label': 1}\n",
      "{'query': '大学生可以做什么挣钱', 'title': '大学生网上做什么赚钱', 'label': 1}\n",
      "{'query': '送奶奶什么礼物比较好', 'title': '送老公的奶奶生日礼物什么好呢，送', 'label': 1}\n",
      "{'query': '天天飞车经典模式怎么获得配件', 'title': '天天飞车经典模式配件怎么获得', 'label': 1}\n",
      "{'query': '我的世界材质包怎么下', 'title': '我的世界中的材质包怎么大', 'label': 1}\n",
      "{'query': '为什么大家都不看奥特曼啊', 'title': '奥特曼为什么哭了', 'label': 1}\n",
      "{'query': '淘宝网小媛非主流服饰的女模特叫什么名字', 'title': '淘宝网上夏娜，芸妃的女模特叫什么名字啊', 'label': 1}\n",
      "{'query': '微信怎么看好友在不在线？', 'title': '微信是怎么看好友在不在线', 'label': 0}\n",
      "{'query': '我爱上了我朋友的老婆怎么办', 'title': '我上了朋友的老婆怎么办', 'label': 1}\n",
      "{'query': '上海租房子哪里最便宜？', 'title': '上海哪里租房子便宜', 'label': 1}\n",
      "{'query': '好安逸是什么意思', 'title': '耍安逸是什么意思', 'label': 1}\n",
      "{'query': '求此动漫女名字', 'title': '求此动漫名字。', 'label': 1}\n",
      "{'query': '找一本古言小说}', 'title': '找一本小说，古言。', 'label': 0}\n",
      "{'query': '舅舅的儿子的儿子叫我什么', 'title': '我儿子叫我舅舅的儿子儿媳叫什么', 'label': 1}\n",
      "{'query': '青花瓷器图片', 'title': '元青花瓷图片', 'label': 1}\n",
      "{'query': '找一首粤语歌曲。', 'title': '求一首粤语歌曲！女的唱的！', 'label': 1}\n",
      "{'query': '我去年买了个表，什么意思', 'title': '我去年买了个表。是什么意思呀？', 'label': 1}\n",
      "{'query': '白菜怎么画', 'title': '怎么腌白菜。', 'label': 1}\n",
      "{'query': '怎样用手机发视频', 'title': '怎么样在手机上看视频', 'label': 1}\n",
      "{'query': '紫色代表什么？', 'title': '紫色代表什么', 'label': 1}\n",
      "{'query': '男皮鞋哪个牌子好？', 'title': '哪个牌子的皮鞋好？', 'label': 1}\n",
      "{'query': '南充哪里可以烧烤', 'title': '南充哪里可以租烧烤架', 'label': 0}\n",
      "{'query': '求共享个优酷会员账号', 'title': '求优酷会员账号共享}', 'label': 1}\n",
      "{'query': '欧巴是什么意思？', 'title': '欧巴是什么意思啊？', 'label': 0}\n",
      "{'query': '高个子女孩适合什么样的短发', 'title': '高个子女生适合什么样的发型', 'label': 1}\n",
      "{'query': '平度同和哪里招聘？', 'title': '平度哪里招聘男', 'label': 1}\n",
      "{'query': '求助，这个是什么字体呀？', 'title': '求助这个是什么字体？', 'label': 0}\n",
      "{'query': '澳洲有哪些块矿', 'title': '在澳洲的时候，', 'label': 1}\n",
      "{'query': '怎么样可以让眉毛变浓？而且多', 'title': '怎么可以使眉毛变浓？', 'label': 1}\n",
      "{'query': '求篡位吧全部广播剧下载啊', 'title': '求篡位吧广播剧下载', 'label': 1}\n",
      "{'query': '请问图片上的是什么花？谢谢', 'title': '请问图片里是什么花？谢谢', 'label': 1}\n",
      "{'query': '爸爸去哪儿一集多长时间', 'title': '爸爸去哪儿播出时间是多长', 'label': 1}\n",
      "{'query': '为什么所有车队都不能申请加入', 'title': '电子竞技为什么不能申请加入奥运会', 'label': 1}\n",
      "{'query': '什么行业赚钱', 'title': '做什么行业最赚钱', 'label': 1}\n",
      "{'query': '买什么悠悠球好', 'title': '什么悠悠球好', 'label': 1}\n",
      "{'query': '求曾轶可这张原图', 'title': '求这张榎本贵音的原图', 'label': 1}\n",
      "{'query': '求一部关于吸血鬼的电影', 'title': '找一部吸血鬼电影', 'label': 1}\n",
      "{'query': '求国外的一部电影', 'title': '求一部电影，国外的', 'label': 1}\n",
      "{'query': '一天中什么时候吃苹果最好', 'title': '一天中什么时候吃苹果', 'label': 1}\n",
      "{'query': '多喝豆浆有什么好处呢？', 'title': '吃豆浆渣有什么好处', 'label': 1}\n",
      "{'query': '吊炕怎么搭，求图解', 'title': '怎样钩杯套图解', 'label': 1}\n",
      "{'query': '找一本玄幻的小说！', 'title': '想找一本玄幻的小说', 'label': 1}\n",
      "{'query': '木耳给你舔够了，什么意思', 'title': '烂木耳是什么意思', 'label': 1}\n",
      "{'query': '喜欢什么意思？', 'title': '喜欢你是什么意思？', 'label': 1}\n",
      "{'query': '在哪里可以下载泡泡堂', 'title': '哪里可以下载到泡泡堂', 'label': 1}\n",
      "{'query': '男生暗恋女生会有什么表现？', 'title': '男生暗恋女生表现是什么', 'label': 1}\n",
      "{'query': '整容有后遗症吗', 'title': '整容有什么后遗症吗？', 'label': 1}\n",
      "{'query': '养宠物的游戏', 'title': '抓宠物的游戏', 'label': 1}\n",
      "{'query': '微博粉丝怎么刷', 'title': '微博怎么加粉丝啊', 'label': 1}\n",
      "{'query': '日文的和字怎么写', 'title': '惠的日文怎么写', 'label': 1}\n",
      "{'query': '哪个网站下载软件最好', 'title': '在哪个网站下载软件好', 'label': 1}\n",
      "{'query': '我这配置能玩腐烂国度吗', 'title': '这个配置可以玩腐烂国度吗？', 'label': 1}\n",
      "{'query': '什么药可以让男人催情', 'title': '什么药可以让女人兴奋，就是吃了可以催情的那种', 'label': 1}\n",
      "{'query': '吃一半，还一半的谜底是什么', 'title': '一半去一半还有一半谜底是什么啊', 'label': 0}\n",
      "{'query': '容易流产的食物有哪些', 'title': '引起流产的食物有哪些', 'label': 0}\n",
      "{'query': '比较爽的小说', 'title': '下小说哪个网比较好啊', 'label': 1}\n",
      "{'query': '简便运算怎么做啊', 'title': '用简便运算怎么做', 'label': 1}\n",
      "{'query': '明天是什么日子', 'title': '明天什么日子？', 'label': 0}\n",
      "{'query': '出自什么动漫？', 'title': '这个出自什么动漫啊', 'label': 0}\n",
      "{'query': '刘德华有什么好看的电影吗？', 'title': '刘德华的电影好看吗', 'label': 0}\n",
      "{'query': '喝红酒对人体有什么好处', 'title': '红酒对人体有什么好处', 'label': 0}\n",
      "{'query': '啃苹果有什么意思', 'title': '白苹果什么意思', 'label': 1}\n",
      "{'query': '鹿晗有女朋友吗？', 'title': '鹿晗有女朋友吗', 'label': 1}\n",
      "{'query': '这是和田玉吗？', 'title': '这是和田玉', 'label': 1}\n",
      "{'query': '适合在婚礼上唱的歌', 'title': '婚礼上适合唱的歌', 'label': 1}\n",
      "{'query': '漫天卷地中的漫是什么意思？', 'title': '漫天卷地是什么意思', 'label': 0}\n",
      "{'query': '宁波哪里可以摘草莓', 'title': '宁波哪里有摘草莓', 'label': 1}\n",
      "{'query': '请问这是哪部动漫的', 'title': '请问这是哪部动漫的？', 'label': 1}\n",
      "{'query': '这个是什么牌子的拉杆箱？', 'title': '什么牌子拉杆箱好', 'label': 1}\n",
      "{'query': '最快的减肥方法是什么', 'title': '请问最快的减肥方法是什么', 'label': 0}\n",
      "{'query': '大槻ひびき种子全集', 'title': '恵けい的全集种子', 'label': 1}\n",
      "{'query': '哪个网站上有卖好看的包包', 'title': '哪个网站有好看的包包', 'label': 1}\n",
      "{'query': '有没有写鬼差的小说', 'title': '有没有关于巫蛊的小说', 'label': 1}\n",
      "{'query': '电脑插上耳机别人听不到我说话', 'title': '怎么我的魅族3手机插耳机之后说话别人听不到', 'label': 0}\n",
      "{'query': '天天飞车现在什么车最好？', 'title': '现在天天飞车中最好的车是什么', 'label': 1}\n",
      "{'query': '常州的特产是什么？', 'title': '常州有什么特产？', 'label': 1}\n",
      "{'query': '微信头像怎么改', 'title': '怎么改微信的头像', 'label': 1}\n",
      "{'query': '中国好声音有第三季吗', 'title': '中国好声音还有第三季吗？', 'label': 0}\n",
      "{'query': '科比能超越乔丹吗', 'title': '科比会超越乔丹吗？', 'label': 1}\n",
      "{'query': '男生短头发发型', 'title': '男生头发少的发型', 'label': 1}\n",
      "{'query': '什么小品能把人笑死的。要名字', 'title': '这个小品什么名字', 'label': 0}\n",
      "{'query': '你是想做天使还是魔鬼', 'title': '是魔鬼中的天使吗？', 'label': 0}\n",
      "{'query': '怎样去除衣服上的火锅味？', 'title': '怎样去除衣服上火锅味', 'label': 1}\n",
      "{'query': '电话订火车票怎么订', 'title': '用电话订火车票怎么订？', 'label': 1}\n",
      "{'query': '一般的年终奖什么时候发', 'title': '年终奖什么时候发？', 'label': 1}\n",
      "{'query': '大白菜怎么炒比较好吃', 'title': '炒大白菜，怎么做要好吃', 'label': 0}\n",
      "{'query': '最近买什么股票比较好', 'title': '最近什么股票比较好啊', 'label': 1}\n",
      "{'query': '泡芙面膜怎么做代理', 'title': '面膜代理怎么做', 'label': 1}\n",
      "{'query': '赛尔号幻天萨格罗斯怎么得', 'title': '赛尔号萨格罗斯银河星爆怎么打', 'label': 0}\n",
      "{'query': '什么样的发型既简单大方又可爱', 'title': '什么样的发型最适合年轻的幼儿园老师', 'label': 1}\n",
      "{'query': '动漫美少女图片', 'title': '动漫美少女的图片', 'label': 0}\n",
      "{'query': '这是什么植物、叫什么果？', 'title': '这是什么植物…啊', 'label': 1}\n",
      "{'query': '上海话吃了伐什么意思', 'title': '撒嗨银上海话什么意思', 'label': 0}\n",
      "{'query': '哈尔滨的考研班哪个好', 'title': '哈尔滨考研班哪个好', 'label': 1}\n",
      "{'query': '吾日三省吾身的日是什么意思', 'title': '吾日三省吾身什么意思', 'label': 1}\n",
      "{'query': '微商是什么，可以做吗', 'title': '怎么可以做微商', 'label': 1}\n",
      "{'query': '地毯烫带是什么', 'title': '地毯绣是什么？', 'label': 1}\n",
      "{'query': '我的提问怎么删除', 'title': '如何删除提问？', 'label': 1}\n",
      "{'query': '加入薏米社团好吗', 'title': '加入薏米社团行吗', 'label': 0}\n",
      "{'query': '下载好手机三国后怎么玩？', 'title': '手机怎么下载三国杀', 'label': 1}\n",
      "{'query': '黑豆怎么吃', 'title': '生黑豆怎么泡？', 'label': 1}\n",
      "{'query': '动漫：求这张图片的出处！', 'title': '求这张图片的动漫出处！', 'label': 1}\n",
      "{'query': '梦见被蛇咬手出血', 'title': '梦见狗咬手出血', 'label': 1}\n",
      "{'query': '总是掉网怎么回事', 'title': '怎么回事，总是这样', 'label': 1}\n",
      "{'query': '怎样登陆微博', 'title': '用微博怎样登陆唱吧', 'label': 0}\n",
      "{'query': '五子棋走黑怎么才能赢', 'title': '五子棋怎么玩', 'label': 1}\n",
      "{'query': '怎样能遮盖纹身', 'title': '怎么遮盖纹身', 'label': 1}\n",
      "{'query': '我的名字韩文怎么写？', 'title': '我的名字用韩文怎么读', 'label': 1}\n",
      "{'query': '双方异地领结婚证到女方家办需要什么证件', 'title': '在异地领结婚证双方需要什么证件', 'label': 1}\n",
      "{'query': '大年初一是指什么生肖', 'title': '大年初一猜什么生肖', 'label': 0}\n",
      "{'query': '关於赞美老师的诗句', 'title': '用诗句来赞美老师', 'label': 1}\n",
      "{'query': '含植物的成语', 'title': '有关植物的成语', 'label': 1}\n",
      "{'query': '祖国，我终于回来了。', 'title': '祖国，我终于回来了', 'label': 1}\n",
      "{'query': '屡次的意思是什么？', 'title': '屡次什么意思？', 'label': 1}\n",
      "{'query': '有幸福花园全集吗？', 'title': '求幸福花园全集，…', 'label': 0}\n",
      "{'query': '这是什么花？会开花吗？如图', 'title': '这是什么为什么不开花', 'label': 1}\n",
      "{'query': '同学结婚送什么礼物好', 'title': '同学结婚送什么礼物好？', 'label': 0}\n",
      "{'query': '小丑怎么画', 'title': '小丑怎么死的', 'label': 1}\n",
      "{'query': '剑灵这是什么时装', 'title': '剑灵这是什么时装？', 'label': 1}\n",
      "{'query': '晚安，用韩语怎么说？', 'title': '晚安的韩语怎么写？', 'label': 0}\n",
      "{'query': '我是谁中的女主角是谁', 'title': '公主恋人>中的女主角是谁', 'label': 1}\n",
      "{'query': '有什么好看的异界穿越小说', 'title': '有什么好看的穿越异界小说？', 'label': 1}\n",
      "{'query': '血红蛋白低吃什么好', 'title': '吃什么补血红蛋白', 'label': 0}\n",
      "{'query': '怎样去除衣服上的机油味', 'title': '如何去除衣服上的机油味', 'label': 1}\n",
      "{'query': '这是什么动漫或游戏的什么人物？', 'title': '这是什么动漫游戏的人物', 'label': 1}\n",
      "{'query': '反恐行动怎么冲金币', 'title': '反恐行动中的金币怎么冲。', 'label': 1}\n",
      "{'query': '如何清洗手机屏幕？', 'title': '手机屏幕怎么清洗？', 'label': 1}\n",
      "{'query': '手机防尘塞哪里有卖', 'title': '手机防尘膜往哪里贴', 'label': 0}\n",
      "{'query': '我的世界手机版材质包如何下载', 'title': '我的世界手机版材质包下载', 'label': 1}\n",
      "{'query': '多玩诛仙上的视频怎么下载', 'title': '怎样下载视频？', 'label': 0}\n",
      "{'query': '大便出血什么原因？！', 'title': '大便出血是啥原因', 'label': 0}\n",
      "{'query': '粗纤维食物有哪些-如何科学食用粗纤维食物', 'title': '粗纤维食物有哪些（适宜于胃病患者吃）', 'label': 0}\n",
      "{'query': '如何把树弄死', 'title': '怎样把树弄死！', 'label': 1}\n",
      "{'query': '有哪些游戏交易平台?', 'title': '游戏交易平台都有哪些', 'label': 1}\n",
      "{'query': '天津海运职业学院', 'title': '天津海运职业学院在哪个区', 'label': 1}\n",
      "{'query': '爱江山更爱美人', 'title': '爱江山更爱美人这样的歌', 'label': 1}\n",
      "{'query': '邯郸是哪个省？', 'title': '邯郸是哪个省的，', 'label': 1}\n",
      "{'query': '石榴籽是什么颜色？', 'title': '石榴红什么颜色的', 'label': 1}\n",
      "{'query': '哪种奶粉味道最接近母乳', 'title': '国产哪一种奶粉味道比较接近母乳', 'label': 1}\n",
      "{'query': '为什么我的声音不好听？', 'title': '为什么录出来的声音不好听', 'label': 1}\n",
      "{'query': '新产品代理找什么好', 'title': '好产品代理什么好？', 'label': 1}\n",
      "{'query': '求本小说！', 'title': '求本小说名。急！', 'label': 1}\n",
      "{'query': '什么牌的饮水机好', 'title': '什么饮水机好', 'label': 1}\n",
      "{'query': '淘宝如何解除手机绑定', 'title': '手机怎么解除淘宝绑定啊', 'label': 1}\n",
      "{'query': '什么减肥药最有效？', 'title': '什么减肥药有效', 'label': 1}\n",
      "{'query': '全民枪战怎么飞了', 'title': '全民枪战的人要怎么飞？', 'label': 1}\n",
      "{'query': '苹果手机单机游戏那个好玩', 'title': '苹果手机上好玩的单机游戏有哪些', 'label': 1}\n",
      "{'query': '七情六欲是什么生肖', 'title': '七情六欲指什么生肖', 'label': 1}\n",
      "{'query': '世界上有真爱吗？', 'title': '这世界有真爱吗？', 'label': 1}\n",
      "{'query': '冬天什么鱼最好养', 'title': '冬天吃什么最好，', 'label': 1}\n",
      "{'query': '请为古诗配画', 'title': '古诗配画的图', 'label': 1}\n",
      "{'query': '苏州彩妆学校什么地方有？', 'title': '苏州彩妆学校在什么地方啊？', 'label': 1}\n",
      "{'query': '大姨妈刚走就做，会怀孕吗？', 'title': '怀孕了会来大姨妈吗', 'label': 1}\n",
      "{'query': '有什么好玩的手机单机游戏安卓的', 'title': '安卓手机有什么好玩的单机游戏？', 'label': 1}\n",
      "{'query': '非反而何，是什么意思求解', 'title': '卡婊是什么意思？求解', 'label': 1}\n",
      "{'query': '怎么样上传视频到土豆', 'title': '上传土豆的视频别人怎么看', 'label': 1}\n",
      "{'query': '盗号软件有什么？在哪里买？', 'title': '什么软件可以盗号？', 'label': 1}\n",
      "{'query': '梦见抱别人的孩子', 'title': '梦见自己孩子死了', 'label': 0}\n",
      "{'query': '什么时候买奶粉？', 'title': '废奶粉桶可以做什么', 'label': 0}\n",
      "{'query': '天津长征医院的药', 'title': '天津长征医院', 'label': 1}\n",
      "{'query': '纸鹤怎么折', 'title': '怎么折纸鹤', 'label': 1}\n",
      "{'query': '赛尔号黄金布布怎么领', 'title': '赛尔号黄金布布怎么融合', 'label': 0}\n",
      "{'query': '我的世界手机版怎么进服务器', 'title': '谁有我的世界手机版服务器', 'label': 1}\n",
      "{'query': '帮我起个笔名吧', 'title': '谁帮我起个笔名', 'label': 1}\n",
      "{'query': '今天天气不错，你的心情好吗', 'title': '你今天心情不好吗.PDF', 'label': 0}\n",
      "{'query': '大家都笑你打一中国城市名)', 'title': '猜一猜打中国城市', 'label': 1}\n",
      "{'query': '你是什么星座的', 'title': '我是什么星座', 'label': 1}\n",
      "{'query': '团宝网怎么打不开', 'title': '地宝网怎么打不开了', 'label': 0}\n",
      "{'query': '谁能借我一万块钱。', 'title': '如果你有一万块钱你能做什么？', 'label': 1}\n",
      "{'query': '不等式组的解集为()。', 'title': '不等式的解集是', 'label': 1}\n",
      "{'query': '这块手表是浪琴什么型号的', 'title': '求大神帮我看看这块浪琴手表的型号', 'label': 1}\n",
      "{'query': '这游戏在哪里下载', 'title': '这是啥游戏？在哪下载呢', 'label': 0}\n",
      "{'query': '玩不了网络游戏', 'title': '我玩不了网络游戏了', 'label': 1}\n",
      "{'query': '天天有喜全集', 'title': '天天有喜全集去哪个看', 'label': 1}\n",
      "{'query': '有什么好看的修真小说(完结的)', 'title': '有什么好看的修真小说完结的', 'label': 1}\n",
      "{'query': '鬼畜王兰斯图文攻略', 'title': '鬼畜王兰斯的图文攻略', 'label': 1}\n",
      "{'query': '怎么我的电脑自己开视频？', 'title': '电脑怎么拍视频啊？', 'label': 1}\n",
      "{'query': '神庙逃亡的兑换码是什么？', 'title': '神庙逃亡2,的兑换码是什么', 'label': 1}\n",
      "{'query': '梦见猫跳到我身上', 'title': '梦见自己身上张蛆', 'label': 1}\n",
      "{'query': '闺蜜生日怎么写说说', 'title': '闺蜜的生日说说怎么写啊。', 'label': 1}\n",
      "{'query': '郑爽张翰什么关系', 'title': '张翰和郑爽是什么关系', 'label': 0}\n",
      "{'query': '晟字古代怎么写？', 'title': '攥字在古代怎么写', 'label': 0}"
     ]
    }
   ],
   "source": [
    "# 我们按照千言文本相似度竞赛的提交格式将预测结果存储在 lcqmc.tsv 中，用来后续提交\n",
    "# 同时将预测结果输出到终端，便于大家直观感受模型预测效果\n",
    "\n",
    "test_ds = load_dataset(\"lcqmc\", splits=[\"test\"])\n",
    "# test_ds1 = load_dataset(\"lcqmc\",data_files=\"bq_corpus/test.tsv\")\n",
    "# test_ds2 = load_dataset(\"lcqmc\",data_files=\"paws-x-zh/test.tsv\")\n",
    "with open(\"paws-x.tsv\", 'w', encoding=\"utf-8\") as f:\n",
    "    f.write(\"index\\tprediction\\n\")    \n",
    "    for idx, y_pred in enumerate(y_preds):\n",
    "        f.write(\"{}\\t{}\\n\".format(idx, y_pred))\n",
    "        text_pair = test_ds[idx]\n",
    "        text_pair[\"label\"] = y_pred\n",
    "        print(text_pair)"
   ]
  },
  {
   "cell_type": "markdown",
   "metadata": {
    "collapsed": false
   },
   "source": [
    "#### 提交 LCQMC 预测结果[千言文本相似度竞赛](https://aistudio.baidu.com/aistudio/competition/detail/45)\n",
    "\n",
    "千言文本相似度竞赛一共有 3 个数据集: lcqmc、bq_corpus、paws-x, 我们刚才生成了 lcqmc 的预测结果 lcqmc.tsv, 同时我们在项目内提供了 bq_corpus、paw-x 数据集的空预测结果，我们将这 3 个文件打包提交到千言文本相似度竞赛，即可看到自己的模型在 Lcqmc 数据集上的竞赛成绩。\n",
    "\n"
   ]
  },
  {
   "cell_type": "code",
   "execution_count": 60,
   "metadata": {
    "collapsed": false
   },
   "outputs": [
    {
     "name": "stdout",
     "output_type": "stream",
     "text": [
      "updating: lcqmc.tsv (deflated 65%)\r\n",
      "updating: paws-x.tsv (deflated 64%)\r\n",
      "updating: bq_corpus.tsv (deflated 66%)\r\n"
     ]
    }
   ],
   "source": [
    "# 打包预测结果\n",
    "!zip submit.zip lcqmc.tsv paws-x.tsv bq_corpus.tsv"
   ]
  },
  {
   "cell_type": "markdown",
   "metadata": {
    "collapsed": false
   },
   "source": [
    "##### 提交预测结果 submit.zip 到 [千言文本相似度竞赛](https://aistudio.baidu.com/aistudio/competition/detail/45)"
   ]
  }
 ],
 "metadata": {
  "kernelspec": {
   "display_name": "PaddlePaddle 2.1.0 (Python 3.5)",
   "language": "python",
   "name": "py35-paddle1.2.0"
  },
  "language_info": {
   "codemirror_mode": {
    "name": "ipython",
    "version": 3
   },
   "file_extension": ".py",
   "mimetype": "text/x-python",
   "name": "python",
   "nbconvert_exporter": "python",
   "pygments_lexer": "ipython3",
   "version": "3.7.4"
  }
 },
 "nbformat": 4,
 "nbformat_minor": 1
}
